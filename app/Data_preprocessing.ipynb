{
 "cells": [
  {
   "cell_type": "code",
   "execution_count": 1,
   "metadata": {},
   "outputs": [],
   "source": [
    "import pandas as pd\n",
    "import ast\n",
    "import numpy as np\n",
    "import json"
   ]
  },
  {
   "cell_type": "code",
   "execution_count": null,
   "metadata": {},
   "outputs": [],
   "source": [
    "##Merging TMDB and IMDB datasets (till Jan 1,2020) \n",
    "\n",
    "\n",
    "#Import both datasets\n",
    "movies=pd.read_csv('IMDB movies.csv')\n",
    "new_movies=pd.read_csv('new_movie.csv')"
   ]
  },
  {
   "cell_type": "code",
   "execution_count": null,
   "metadata": {},
   "outputs": [],
   "source": [
    "#Drop irrelevant columns\n",
    "\n",
    "movies.drop(columns=['usa_gross_income', 'worlwide_gross_income', 'metascore',\n",
    "       'reviews_from_users', 'reviews_from_critics','duration','language','date_published','budget','title','writer','votes','production_company'],inplace=True)\n",
    "\n",
    "new_movies.drop(columns=['original_title','adult','overview'],inplace=True)\n",
    "\n",
    "#Remove nulls\n",
    "movies.dropna(inplace=True)\n",
    "\n",
    "#Rename columns \n",
    "movies.rename(columns={'imdb_title_id': 'imdb_id'}, inplace=True)\n",
    "\n",
    "#Merge based on imdb_id\n",
    "final=pd.merge(new_movies,movies,on='imdb_id',how='inner')\n",
    "\n",
    "#Keep only unique entries\n",
    "final=final.drop_duplicates(subset='imdb_id', keep=\"first\")\n",
    "\n",
    "#Save to disk\n",
    "final.to_csv('movie_data.csv',index=False)"
   ]
  },
  {
   "cell_type": "code",
   "execution_count": 2,
   "metadata": {},
   "outputs": [
    {
     "name": "stderr",
     "output_type": "stream",
     "text": [
      "C:\\Users\\Harman\\.conda\\envs\\PDSH\\lib\\site-packages\\IPython\\core\\interactiveshell.py:3146: DtypeWarning: Columns (6) have mixed types.Specify dtype option on import or set low_memory=False.\n",
      "  interactivity=interactivity, compiler=compiler, result=result)\n"
     ]
    }
   ],
   "source": [
    "##Preprocessing TMDB data (after Jan 1, 2020)\n",
    "final=pd.read_csv('movie_data.csv')"
   ]
  },
  {
   "cell_type": "code",
   "execution_count": 3,
   "metadata": {},
   "outputs": [],
   "source": [
    "df=pd.read_csv('tmdb_2020.csv')"
   ]
  },
  {
   "cell_type": "code",
   "execution_count": 4,
   "metadata": {
    "scrolled": true
   },
   "outputs": [
    {
     "data": {
      "text/html": [
       "<div>\n",
       "<style scoped>\n",
       "    .dataframe tbody tr th:only-of-type {\n",
       "        vertical-align: middle;\n",
       "    }\n",
       "\n",
       "    .dataframe tbody tr th {\n",
       "        vertical-align: top;\n",
       "    }\n",
       "\n",
       "    .dataframe thead th {\n",
       "        text-align: right;\n",
       "    }\n",
       "</style>\n",
       "<table border=\"1\" class=\"dataframe\">\n",
       "  <thead>\n",
       "    <tr style=\"text-align: right;\">\n",
       "      <th></th>\n",
       "      <th>genre</th>\n",
       "      <th>tmdb_id</th>\n",
       "      <th>imdb_id</th>\n",
       "      <th>original_language</th>\n",
       "      <th>original_title</th>\n",
       "      <th>description</th>\n",
       "      <th>popularity</th>\n",
       "      <th>poster_path</th>\n",
       "      <th>country</th>\n",
       "      <th>year</th>\n",
       "      <th>title</th>\n",
       "      <th>external_rating</th>\n",
       "      <th>actors</th>\n",
       "      <th>director</th>\n",
       "      <th>rating</th>\n",
       "    </tr>\n",
       "  </thead>\n",
       "  <tbody>\n",
       "    <tr>\n",
       "      <th>0</th>\n",
       "      <td>[{'id': 16, 'name': 'Animation'}]</td>\n",
       "      <td>747527</td>\n",
       "      <td>NaN</td>\n",
       "      <td>en</td>\n",
       "      <td>From My Desert</td>\n",
       "      <td>​Temperature: 21. Humidity: 55 %. Optimum cond...</td>\n",
       "      <td>0.6</td>\n",
       "      <td>/y1EvAdEvto3UkXmJWYf6Pn1QG5.jpg</td>\n",
       "      <td>[{'iso_3166_1': 'DE', 'name': 'Germany'}]</td>\n",
       "      <td>2019-07-12</td>\n",
       "      <td>From My Desert</td>\n",
       "      <td>0.0</td>\n",
       "      <td>[{'cast_id': 4, 'character': '', 'credit_id': ...</td>\n",
       "      <td>[{'credit_id': '5f711f36e4b5760036e7eace', 'de...</td>\n",
       "      <td>0.0</td>\n",
       "    </tr>\n",
       "  </tbody>\n",
       "</table>\n",
       "</div>"
      ],
      "text/plain": [
       "                               genre  tmdb_id imdb_id original_language  \\\n",
       "0  [{'id': 16, 'name': 'Animation'}]   747527     NaN                en   \n",
       "\n",
       "   original_title                                        description  \\\n",
       "0  From My Desert  ​Temperature: 21. Humidity: 55 %. Optimum cond...   \n",
       "\n",
       "   popularity                      poster_path  \\\n",
       "0         0.6  /y1EvAdEvto3UkXmJWYf6Pn1QG5.jpg   \n",
       "\n",
       "                                     country        year           title  \\\n",
       "0  [{'iso_3166_1': 'DE', 'name': 'Germany'}]  2019-07-12  From My Desert   \n",
       "\n",
       "   external_rating                                             actors  \\\n",
       "0              0.0  [{'cast_id': 4, 'character': '', 'credit_id': ...   \n",
       "\n",
       "                                            director  rating  \n",
       "0  [{'credit_id': '5f711f36e4b5760036e7eace', 'de...     0.0  "
      ]
     },
     "execution_count": 4,
     "metadata": {},
     "output_type": "execute_result"
    }
   ],
   "source": [
    "#Process column names so that to match with original data\n",
    "\n",
    "#Drop columns\n",
    "#Keeping title for now as it will be used later\n",
    "df.drop(columns=['budget','adult','homepage','production_companies','revenue', 'runtime', 'spoken_languages', 'tagline','video','vote_count'],inplace=True)\n",
    "\n",
    "#Rename columns\n",
    "df.rename(columns={'id':'tmdb_id','genres':'genre','credits.cast':'actors','credits.crew':'director','release_date':'year','production_countries':'country','overview':'description','vote_average':'external_rating'},inplace=True)\n",
    "\n",
    "#Add rating column\n",
    "df['rating']=0.\n",
    "\n",
    "\n",
    "\n",
    "df.head(1)"
   ]
  },
  {
   "cell_type": "code",
   "execution_count": 5,
   "metadata": {},
   "outputs": [],
   "source": [
    "#Get genres\n",
    "def get_genre(inp):\n",
    "    df=pd.json_normalize(ast.literal_eval(inp))\n",
    "    if 'name' not in df:\n",
    "        return np.nan\n",
    "    else:\n",
    "        df=df[df.name.notna()]\n",
    "        temp=df.name.tolist()\n",
    "        return ', '.join(temp)"
   ]
  },
  {
   "cell_type": "code",
   "execution_count": 6,
   "metadata": {},
   "outputs": [],
   "source": [
    "#Get poster\n",
    "def get_poster(inp):\n",
    "    if type(inp) == str:\n",
    "         return 'http://image.tmdb.org/t/p/original'+ inp"
   ]
  },
  {
   "cell_type": "code",
   "execution_count": 7,
   "metadata": {},
   "outputs": [],
   "source": [
    "#Get actors (atmost 5)\n",
    "def get_actors(inp):\n",
    "    try:\n",
    "        df=pd.json_normalize(ast.literal_eval(inp))\n",
    "        if 'name' not in df:\n",
    "            return np.nan\n",
    "        else:\n",
    "            df=df[df.name.notna()]\n",
    "            df=df.sort_values('cast_id')[:5]\n",
    "            temp=df.name.tolist()\n",
    "            return ', '.join(temp)\n",
    "    except:\n",
    "        return np.nan\n",
    "        "
   ]
  },
  {
   "cell_type": "code",
   "execution_count": 8,
   "metadata": {},
   "outputs": [],
   "source": [
    "#Get Director\n",
    "\n",
    "def get_director(inp):\n",
    "    try:      \n",
    "        df=pd.json_normalize(ast.literal_eval(inp))\n",
    "        if 'name' not in df:\n",
    "            return np.nan\n",
    "        else:\n",
    "            df=df[df.job == 'Director']\n",
    "            if df.empty:\n",
    "                return np.nan\n",
    "            df=df[df.name.notna()]\n",
    "            temp=df.name.tolist()\n",
    "            return ', '.join(temp)\n",
    "    except:\n",
    "        return np.nan"
   ]
  },
  {
   "cell_type": "code",
   "execution_count": 9,
   "metadata": {},
   "outputs": [],
   "source": [
    "#Get Countries\n",
    "\n",
    "def get_countries(inp):\n",
    "    df=pd.json_normalize(ast.literal_eval(inp))\n",
    "    if 'name' not in df:\n",
    "        return np.nan\n",
    "    else:\n",
    "        df=df[df.name.notna()]\n",
    "        temp=df.name.tolist()\n",
    "        return ', '.join(temp)"
   ]
  },
  {
   "cell_type": "code",
   "execution_count": 10,
   "metadata": {},
   "outputs": [],
   "source": [
    "#Get year\n",
    "def get_year(inp):\n",
    "    return int(inp[:4])"
   ]
  },
  {
   "cell_type": "code",
   "execution_count": 11,
   "metadata": {},
   "outputs": [],
   "source": [
    "#Translate original_title for some languages\n",
    "def modify_title(lan,original,title):\n",
    "    if lan in ['fr','es','it','ff','tl']:\n",
    "        return original\n",
    "    else:\n",
    "        return title\n",
    "    \n",
    "    \n"
   ]
  },
  {
   "cell_type": "code",
   "execution_count": 12,
   "metadata": {},
   "outputs": [],
   "source": [
    "df['genre']=df['genre'].apply(get_genre)"
   ]
  },
  {
   "cell_type": "code",
   "execution_count": 13,
   "metadata": {},
   "outputs": [],
   "source": [
    "df['actors']=df['actors'].apply(get_actors)"
   ]
  },
  {
   "cell_type": "code",
   "execution_count": 14,
   "metadata": {},
   "outputs": [],
   "source": [
    "df['country']=df['country'].apply(get_countries)"
   ]
  },
  {
   "cell_type": "code",
   "execution_count": 15,
   "metadata": {},
   "outputs": [],
   "source": [
    "df['director']=df['director'].apply(get_director)"
   ]
  },
  {
   "cell_type": "code",
   "execution_count": 16,
   "metadata": {},
   "outputs": [],
   "source": [
    "df['poster']=df['poster_path'].apply(get_poster)"
   ]
  },
  {
   "cell_type": "code",
   "execution_count": 17,
   "metadata": {},
   "outputs": [],
   "source": [
    "df['year']=df['year'].apply(get_year)"
   ]
  },
  {
   "cell_type": "code",
   "execution_count": 18,
   "metadata": {},
   "outputs": [],
   "source": [
    "df['original_title']=df.apply(lambda x: modify_title(x.original_language,x.original_title,x.title),axis=1)"
   ]
  },
  {
   "cell_type": "code",
   "execution_count": 19,
   "metadata": {},
   "outputs": [],
   "source": [
    "df=df[final.columns.tolist()]"
   ]
  },
  {
   "cell_type": "code",
   "execution_count": 25,
   "metadata": {},
   "outputs": [],
   "source": [
    "#Remove NANs\n",
    "df.dropna(subset=['genre','description','original_title'],inplace=True)"
   ]
  },
  {
   "cell_type": "code",
   "execution_count": 26,
   "metadata": {},
   "outputs": [
    {
     "data": {
      "text/plain": [
       "(14636, 14)"
      ]
     },
     "execution_count": 26,
     "metadata": {},
     "output_type": "execute_result"
    }
   ],
   "source": [
    "df.shape"
   ]
  },
  {
   "cell_type": "code",
   "execution_count": 27,
   "metadata": {},
   "outputs": [],
   "source": [
    "df.to_csv('tmdb_2020_processed.csv')"
   ]
  },
  {
   "cell_type": "code",
   "execution_count": 55,
   "metadata": {},
   "outputs": [
    {
     "data": {
      "text/plain": [
       "(77622, 14)"
      ]
     },
     "execution_count": 55,
     "metadata": {},
     "output_type": "execute_result"
    }
   ],
   "source": [
    "final.shape"
   ]
  },
  {
   "cell_type": "code",
   "execution_count": null,
   "metadata": {},
   "outputs": [],
   "source": [
    "## 3. Convert language codes to names"
   ]
  },
  {
   "cell_type": "code",
   "execution_count": 28,
   "metadata": {},
   "outputs": [],
   "source": [
    "#Append to movie_data.csv\n",
    "\n",
    "df.to_csv('movie_data.csv', mode='a',header=False,index=False)"
   ]
  },
  {
   "cell_type": "code",
   "execution_count": 29,
   "metadata": {},
   "outputs": [
    {
     "name": "stderr",
     "output_type": "stream",
     "text": [
      "C:\\Users\\Harman\\.conda\\envs\\PDSH\\lib\\site-packages\\IPython\\core\\interactiveshell.py:3146: DtypeWarning: Columns (6) have mixed types.Specify dtype option on import or set low_memory=False.\n",
      "  interactivity=interactivity, compiler=compiler, result=result)\n"
     ]
    }
   ],
   "source": [
    "df=pd.read_csv('movie_data.csv')"
   ]
  },
  {
   "cell_type": "code",
   "execution_count": 33,
   "metadata": {},
   "outputs": [],
   "source": [
    "#Initialise ratings to 0\n",
    "\n",
    "df.rating=0."
   ]
  },
  {
   "cell_type": "code",
   "execution_count": 38,
   "metadata": {},
   "outputs": [],
   "source": [
    "import tmdbsimple as ts\n",
    "\n",
    "ts.API_KEY='YOUR_API_KEY'"
   ]
  },
  {
   "cell_type": "code",
   "execution_count": 47,
   "metadata": {},
   "outputs": [],
   "source": [
    "#Get list of language codes and corresponding names\n",
    "\n",
    "lan=pd.read_json(json.dumps(ts.Configuration().languages()))\n",
    "\n",
    "#Convert to dictionary (code:english_name)\n",
    "lan_codes= dict(zip(lan.iso_639_1, lan.english_name))"
   ]
  },
  {
   "cell_type": "code",
   "execution_count": 54,
   "metadata": {},
   "outputs": [],
   "source": [
    "#Convert codes to english names\n",
    "\n",
    "df.original_language=df.original_language.apply(lambda x: lan_codes[x])"
   ]
  },
  {
   "cell_type": "code",
   "execution_count": 56,
   "metadata": {},
   "outputs": [
    {
     "data": {
      "text/plain": [
       "(92258, 14)"
      ]
     },
     "execution_count": 56,
     "metadata": {},
     "output_type": "execute_result"
    }
   ],
   "source": [
    "#Final movie data shape\n",
    "\n",
    "df.shape"
   ]
  },
  {
   "cell_type": "code",
   "execution_count": 57,
   "metadata": {},
   "outputs": [],
   "source": [
    "#Save to disk\n",
    "\n",
    "df.to_csv('movie_data.csv',index=False)"
   ]
  },
  {
   "cell_type": "code",
   "execution_count": null,
   "metadata": {},
   "outputs": [],
   "source": []
  }
 ],
 "metadata": {
  "kernelspec": {
   "display_name": "Python 3",
   "language": "python",
   "name": "python3"
  },
  "language_info": {
   "codemirror_mode": {
    "name": "ipython",
    "version": 3
   },
   "file_extension": ".py",
   "mimetype": "text/x-python",
   "name": "python",
   "nbconvert_exporter": "python",
   "pygments_lexer": "ipython3",
   "version": "3.7.9"
  }
 },
 "nbformat": 4,
 "nbformat_minor": 4
}
