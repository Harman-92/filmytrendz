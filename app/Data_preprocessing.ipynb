{
 "cells": [
  {
   "cell_type": "code",
   "execution_count": 2,
   "metadata": {},
   "outputs": [],
   "source": [
    "import pandas as pd\n",
    "import ast\n",
    "import numpy as np\n",
    "import json"
   ]
  },
  {
   "cell_type": "code",
   "execution_count": 3,
   "metadata": {},
   "outputs": [
    {
     "name": "stderr",
     "output_type": "stream",
     "text": [
      "C:\\Users\\Harman\\.conda\\envs\\PDSH\\lib\\site-packages\\IPython\\core\\interactiveshell.py:3146: DtypeWarning: Columns (3) have mixed types.Specify dtype option on import or set low_memory=False.\n",
      "  interactivity=interactivity, compiler=compiler, result=result)\n"
     ]
    }
   ],
   "source": [
    "##Merging TMDB and IMDB datasets (till Jan 1,2020) \n",
    "\n",
    "\n",
    "#Import both datasets\n",
    "movies=pd.read_csv('IMDB movies.csv')\n",
    "new_movies=pd.read_csv('new_movie.csv')"
   ]
  },
  {
   "cell_type": "code",
   "execution_count": 4,
   "metadata": {},
   "outputs": [
    {
     "name": "stdout",
     "output_type": "stream",
     "text": [
      "(83549, 9)\n",
      "(77663, 5)\n"
     ]
    }
   ],
   "source": [
    "#Drop irrelevant columns\n",
    "\n",
    "movies.drop(columns=['usa_gross_income', 'worlwide_gross_income', 'metascore',\n",
    "       'reviews_from_users', 'reviews_from_critics','duration','language','date_published','budget','title','writer','votes','production_company'],inplace=True)\n",
    "\n",
    "new_movies.drop(columns=['original_title','adult','overview'],inplace=True)\n",
    "\n",
    "#Remove nulls\n",
    "movies.dropna(inplace=True)\n",
    "\n",
    "#Rename columns \n",
    "movies.rename(columns={'imdb_title_id': 'imdb_id'}, inplace=True)\n",
    "\n",
    "#Merge based on imdb_id\n",
    "final=pd.merge(new_movies,movies,on='imdb_id',how='inner')\n",
    "\n",
    "#Keep only unique entries\n",
    "final=final.drop_duplicates(subset='imdb_id', keep=\"first\")\n",
    "\n",
    "#Save to disk\n",
    "final.to_csv('movie_data.csv',index=False)"
   ]
  },
  {
   "cell_type": "code",
   "execution_count": 7,
   "metadata": {},
   "outputs": [],
   "source": [
    "##Preprocessing TMDB data (after Jan 1, 2020)"
   ]
  },
  {
   "cell_type": "code",
   "execution_count": null,
   "metadata": {},
   "outputs": [],
   "source": [
    "df=pd.read_csv('tmdb_2020.csv')"
   ]
  },
  {
   "cell_type": "code",
   "execution_count": null,
   "metadata": {},
   "outputs": [],
   "source": [
    "#Process column names so that to match with original data"
   ]
  },
  {
   "cell_type": "code",
   "execution_count": null,
   "metadata": {},
   "outputs": [],
   "source": [
    "#Get genres\n",
    "def read_genres(inp):\n",
    "        df=pd.json_normalize(ast.literal_eval(inp))\n",
    "        if 'name' not in df:\n",
    "            return np.nan\n",
    "        else:\n",
    "            df.dropna(inplace=True)\n",
    "            temp=df.name.tolist()\n",
    "            return json.dumps(temp)"
   ]
  },
  {
   "cell_type": "code",
   "execution_count": null,
   "metadata": {},
   "outputs": [],
   "source": [
    "#"
   ]
  }
 ],
 "metadata": {
  "kernelspec": {
   "display_name": "Python 3",
   "language": "python",
   "name": "python3"
  },
  "language_info": {
   "codemirror_mode": {
    "name": "ipython",
    "version": 3
   },
   "file_extension": ".py",
   "mimetype": "text/x-python",
   "name": "python",
   "nbconvert_exporter": "python",
   "pygments_lexer": "ipython3",
   "version": "3.7.9"
  }
 },
 "nbformat": 4,
 "nbformat_minor": 4
}
