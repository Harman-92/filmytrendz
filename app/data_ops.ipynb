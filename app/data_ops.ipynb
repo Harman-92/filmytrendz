{
 "cells": [
  {
   "cell_type": "code",
   "execution_count": 1,
   "metadata": {},
   "outputs": [],
   "source": [
    "import pandas as pd"
   ]
  },
  {
   "cell_type": "code",
   "execution_count": 2,
   "metadata": {},
   "outputs": [
    {
     "name": "stderr",
     "output_type": "stream",
     "text": [
      "C:\\Users\\Harman\\.conda\\envs\\PDSH\\lib\\site-packages\\IPython\\core\\interactiveshell.py:3146: DtypeWarning: Columns (3) have mixed types.Specify dtype option on import or set low_memory=False.\n",
      "  interactivity=interactivity, compiler=compiler, result=result)\n"
     ]
    }
   ],
   "source": [
    "movies=pd.read_csv('IMDB movies.csv')"
   ]
  },
  {
   "cell_type": "code",
   "execution_count": 3,
   "metadata": {},
   "outputs": [
    {
     "data": {
      "text/plain": [
       "(78344, 12)"
      ]
     },
     "execution_count": 3,
     "metadata": {},
     "output_type": "execute_result"
    }
   ],
   "source": [
    "#Drop irrelevant columns\n",
    "\n",
    "movies.drop(columns=['usa_gross_income', 'worlwide_gross_income', 'metascore',\n",
    "       'reviews_from_users', 'reviews_from_critics','duration','language','date_published','budget','title'],inplace=True)\n",
    "\n",
    "#Remove nulls\n",
    "movies.dropna(inplace=True)\n",
    "movies.shape"
   ]
  },
  {
   "cell_type": "code",
   "execution_count": 4,
   "metadata": {},
   "outputs": [
    {
     "data": {
      "text/plain": [
       "['imdb_title_id',\n",
       " 'original_title',\n",
       " 'year',\n",
       " 'genre',\n",
       " 'country',\n",
       " 'director',\n",
       " 'writer',\n",
       " 'production_company',\n",
       " 'actors',\n",
       " 'description',\n",
       " 'avg_vote',\n",
       " 'votes']"
      ]
     },
     "execution_count": 4,
     "metadata": {},
     "output_type": "execute_result"
    }
   ],
   "source": [
    "movies.columns.tolist()"
   ]
  },
  {
   "cell_type": "code",
   "execution_count": 55,
   "metadata": {},
   "outputs": [
    {
     "data": {
      "text/html": [
       "<div>\n",
       "<style scoped>\n",
       "    .dataframe tbody tr th:only-of-type {\n",
       "        vertical-align: middle;\n",
       "    }\n",
       "\n",
       "    .dataframe tbody tr th {\n",
       "        vertical-align: top;\n",
       "    }\n",
       "\n",
       "    .dataframe thead th {\n",
       "        text-align: right;\n",
       "    }\n",
       "</style>\n",
       "<table border=\"1\" class=\"dataframe\">\n",
       "  <thead>\n",
       "    <tr style=\"text-align: right;\">\n",
       "      <th></th>\n",
       "      <th>imdb_title_id</th>\n",
       "      <th>original_title</th>\n",
       "      <th>year</th>\n",
       "      <th>genre</th>\n",
       "      <th>director</th>\n",
       "      <th>writer</th>\n",
       "      <th>production_company</th>\n",
       "      <th>actors</th>\n",
       "      <th>description</th>\n",
       "      <th>avg_vote</th>\n",
       "      <th>votes</th>\n",
       "    </tr>\n",
       "  </thead>\n",
       "  <tbody>\n",
       "    <tr>\n",
       "      <th>0</th>\n",
       "      <td>tt0000009</td>\n",
       "      <td>Miss Jerry</td>\n",
       "      <td>1894</td>\n",
       "      <td>Romance</td>\n",
       "      <td>Alexander Black</td>\n",
       "      <td>Alexander Black</td>\n",
       "      <td>Alexander Black Photoplays</td>\n",
       "      <td>Blanche Bayliss, William Courtenay, Chauncey D...</td>\n",
       "      <td>The adventures of a female reporter in the 1890s.</td>\n",
       "      <td>5.9</td>\n",
       "      <td>154</td>\n",
       "    </tr>\n",
       "    <tr>\n",
       "      <th>1</th>\n",
       "      <td>tt0000574</td>\n",
       "      <td>The Story of the Kelly Gang</td>\n",
       "      <td>1906</td>\n",
       "      <td>Biography, Crime, Drama</td>\n",
       "      <td>Charles Tait</td>\n",
       "      <td>Charles Tait</td>\n",
       "      <td>J. and N. Tait</td>\n",
       "      <td>Elizabeth Tait, John Tait, Norman Campbell, Be...</td>\n",
       "      <td>True story of notorious Australian outlaw Ned ...</td>\n",
       "      <td>6.1</td>\n",
       "      <td>589</td>\n",
       "    </tr>\n",
       "    <tr>\n",
       "      <th>2</th>\n",
       "      <td>tt0001892</td>\n",
       "      <td>Den sorte drøm</td>\n",
       "      <td>1911</td>\n",
       "      <td>Drama</td>\n",
       "      <td>Urban Gad</td>\n",
       "      <td>Urban Gad, Gebhard Schätzler-Perasini</td>\n",
       "      <td>Fotorama</td>\n",
       "      <td>Asta Nielsen, Valdemar Psilander, Gunnar Helse...</td>\n",
       "      <td>Two men of high rank are both wooing the beaut...</td>\n",
       "      <td>5.8</td>\n",
       "      <td>188</td>\n",
       "    </tr>\n",
       "    <tr>\n",
       "      <th>3</th>\n",
       "      <td>tt0002101</td>\n",
       "      <td>Cleopatra</td>\n",
       "      <td>1912</td>\n",
       "      <td>Drama, History</td>\n",
       "      <td>Charles L. Gaskill</td>\n",
       "      <td>Victorien Sardou</td>\n",
       "      <td>Helen Gardner Picture Players</td>\n",
       "      <td>Helen Gardner, Pearl Sindelar, Miss Fielding, ...</td>\n",
       "      <td>The fabled queen of Egypt's affair with Roman ...</td>\n",
       "      <td>5.2</td>\n",
       "      <td>446</td>\n",
       "    </tr>\n",
       "    <tr>\n",
       "      <th>4</th>\n",
       "      <td>tt0002130</td>\n",
       "      <td>L'Inferno</td>\n",
       "      <td>1911</td>\n",
       "      <td>Adventure, Drama, Fantasy</td>\n",
       "      <td>Francesco Bertolini, Adolfo Padovan</td>\n",
       "      <td>Dante Alighieri</td>\n",
       "      <td>Milano Film</td>\n",
       "      <td>Salvatore Papa, Arturo Pirovano, Giuseppe de L...</td>\n",
       "      <td>Loosely adapted from Dante's Divine Comedy and...</td>\n",
       "      <td>7.0</td>\n",
       "      <td>2237</td>\n",
       "    </tr>\n",
       "  </tbody>\n",
       "</table>\n",
       "</div>"
      ],
      "text/plain": [
       "  imdb_title_id               original_title  year                      genre  \\\n",
       "0     tt0000009                   Miss Jerry  1894                    Romance   \n",
       "1     tt0000574  The Story of the Kelly Gang  1906    Biography, Crime, Drama   \n",
       "2     tt0001892               Den sorte drøm  1911                      Drama   \n",
       "3     tt0002101                    Cleopatra  1912             Drama, History   \n",
       "4     tt0002130                    L'Inferno  1911  Adventure, Drama, Fantasy   \n",
       "\n",
       "                              director                                 writer  \\\n",
       "0                      Alexander Black                        Alexander Black   \n",
       "1                         Charles Tait                           Charles Tait   \n",
       "2                            Urban Gad  Urban Gad, Gebhard Schätzler-Perasini   \n",
       "3                   Charles L. Gaskill                       Victorien Sardou   \n",
       "4  Francesco Bertolini, Adolfo Padovan                        Dante Alighieri   \n",
       "\n",
       "              production_company  \\\n",
       "0     Alexander Black Photoplays   \n",
       "1                 J. and N. Tait   \n",
       "2                       Fotorama   \n",
       "3  Helen Gardner Picture Players   \n",
       "4                    Milano Film   \n",
       "\n",
       "                                              actors  \\\n",
       "0  Blanche Bayliss, William Courtenay, Chauncey D...   \n",
       "1  Elizabeth Tait, John Tait, Norman Campbell, Be...   \n",
       "2  Asta Nielsen, Valdemar Psilander, Gunnar Helse...   \n",
       "3  Helen Gardner, Pearl Sindelar, Miss Fielding, ...   \n",
       "4  Salvatore Papa, Arturo Pirovano, Giuseppe de L...   \n",
       "\n",
       "                                         description  avg_vote  votes  \n",
       "0  The adventures of a female reporter in the 1890s.       5.9    154  \n",
       "1  True story of notorious Australian outlaw Ned ...       6.1    589  \n",
       "2  Two men of high rank are both wooing the beaut...       5.8    188  \n",
       "3  The fabled queen of Egypt's affair with Roman ...       5.2    446  \n",
       "4  Loosely adapted from Dante's Divine Comedy and...       7.0   2237  "
      ]
     },
     "execution_count": 55,
     "metadata": {},
     "output_type": "execute_result"
    }
   ],
   "source": [
    "movies.head(5)"
   ]
  },
  {
   "cell_type": "code",
   "execution_count": 4,
   "metadata": {},
   "outputs": [],
   "source": [
    "import tmdbsimple as ts\n",
    "ts.API_KEY='e8ad3a064b09b320f171bc110b451cfd'"
   ]
  },
  {
   "cell_type": "code",
   "execution_count": 55,
   "metadata": {},
   "outputs": [],
   "source": [
    "\n",
    "res=ts.Find(id='tt13057169').info(external_source='imdb_id')"
   ]
  },
  {
   "cell_type": "raw",
   "metadata": {},
   "source": [
    "res"
   ]
  },
  {
   "cell_type": "code",
   "execution_count": 59,
   "metadata": {},
   "outputs": [],
   "source": [
    "m_list=movies.imdb_title_id.to_list()"
   ]
  },
  {
   "cell_type": "code",
   "execution_count": 60,
   "metadata": {},
   "outputs": [],
   "source": [
    "from copy import deepcopy\n",
    "m_curr=deepcopy(m_list)"
   ]
  },
  {
   "cell_type": "code",
   "execution_count": 110,
   "metadata": {},
   "outputs": [],
   "source": [
    "df_col=['imdb_id','tmdb_id', 'original_language', 'original_title', 'adult', 'overview', 'poster_path', 'popularity']\n",
    "df_new=pd.DataFrame(columns=df_col)"
   ]
  },
  {
   "cell_type": "code",
   "execution_count": 159,
   "metadata": {},
   "outputs": [],
   "source": [
    "for _,item in enumerate(m_list):\n",
    "    res=ts.Find(id=item).info(external_source='imdb_id')['movie_results']\n",
    "    \n",
    "    #Deleting an id is equivalent to mark as done\n",
    "    m_curr.pop(0)\n",
    "    \n",
    "    #If there is a match\n",
    "    if res:\n",
    "        res=res[0]\n",
    "        row=dict.fromkeys(df_col,'')\n",
    "    \n",
    "        row['imdb_id']=item\n",
    "        row['tmdb_id']=res['id']\n",
    "        row['original_language']=res['original_language']\n",
    "        row['original_title']=res['original_title']\n",
    "        row['adult']=res['adult']\n",
    "        row['overview']=res['overview']\n",
    "        if res['poster_path']:\n",
    "            row['poster_path']='http://image.tmdb.org/t/p/original'+ res['poster_path']\n",
    "        row['popularity']=res['popularity']\n",
    "        \n",
    "        df_new=df_new.append(row,ignore_index=True)\n",
    "        \n",
    "        \n",
    "\n",
    "        \n",
    "    "
   ]
  },
  {
   "cell_type": "code",
   "execution_count": 160,
   "metadata": {},
   "outputs": [],
   "source": [
    "#Append this df to new_movie.csv\n",
    "\n",
    "df_new.to_csv('new_movie.csv', mode='a',header=False,index=False)"
   ]
  },
  {
   "cell_type": "code",
   "execution_count": 155,
   "metadata": {},
   "outputs": [],
   "source": [
    "#Incase you stop the loop\n",
    "m_curr.insert(0,item)\n",
    "m_list=deepcopy(m_curr)\n",
    "df_new=pd.DataFrame(columns=df_col)"
   ]
  },
  {
   "cell_type": "code",
   "execution_count": 156,
   "metadata": {},
   "outputs": [
    {
     "data": {
      "text/plain": [
       "True"
      ]
     },
     "execution_count": 156,
     "metadata": {},
     "output_type": "execute_result"
    }
   ],
   "source": [
    "#Check this before starting the loop again\n",
    "len(m_list) == len(m_curr)"
   ]
  },
  {
   "cell_type": "code",
   "execution_count": 3,
   "metadata": {},
   "outputs": [],
   "source": [
    "import omdb \n",
    "from omdb import OMDBClient\n",
    "ob = OMDBClient(apikey='1eedb1c5')\n"
   ]
  },
  {
   "cell_type": "code",
   "execution_count": 43,
   "metadata": {},
   "outputs": [],
   "source": [
    "res = ob.get(imdbid='tt9914942')"
   ]
  },
  {
   "cell_type": "code",
   "execution_count": 44,
   "metadata": {},
   "outputs": [
    {
     "data": {
      "text/plain": [
       "{'title': 'La vida sense la Sara Amat',\n",
       " 'year': '2019',\n",
       " 'rated': 'N/A',\n",
       " 'released': '05 Feb 2020',\n",
       " 'runtime': '74 min',\n",
       " 'genre': 'Drama',\n",
       " 'director': 'Laura Jou',\n",
       " 'writer': 'Coral Cruz, Pep Puig (novel)',\n",
       " 'actors': 'Maria Morera Colomer, Biel Rossell Pelfort, Isaac Alcayde, Lluís Altés',\n",
       " 'plot': 'Pep, a 13-year-old boy, is in love with a girl from his grandparents village, Sara Amat. One summer night Sara disappears without a trace. After a few hours, Pep finds her hiding in his room.',\n",
       " 'language': 'Catalan',\n",
       " 'country': 'Spain',\n",
       " 'awards': '2 wins & 1 nomination.',\n",
       " 'poster': 'https://m.media-amazon.com/images/M/MV5BNDdhY2ZlZTItMTQ1Yy00N2ZlLTk3ZWEtZDc1ZGZiNzZlNmJjXkEyXkFqcGdeQXVyMTA0MjU0Ng@@._V1_SX300.jpg',\n",
       " 'ratings': [{'source': 'Internet Movie Database', 'value': '6.8/10'}],\n",
       " 'metascore': 'N/A',\n",
       " 'imdb_rating': '6.8',\n",
       " 'imdb_votes': '79',\n",
       " 'imdb_id': 'tt9914942',\n",
       " 'type': 'movie',\n",
       " 'dvd': 'N/A',\n",
       " 'box_office': 'N/A',\n",
       " 'production': 'N/A',\n",
       " 'website': 'N/A',\n",
       " 'response': 'True'}"
      ]
     },
     "execution_count": 44,
     "metadata": {},
     "output_type": "execute_result"
    }
   ],
   "source": [
    "res"
   ]
  },
  {
   "cell_type": "code",
   "execution_count": 47,
   "metadata": {},
   "outputs": [],
   "source": [
    "cols_imdb=['imdb_title_id', 'original_title', 'year', 'genre', 'country', 'director', 'writer', 'production_company', 'actors', 'description', 'avg_vote', 'votes']\n",
    "df2=pd.DataFrame(columns=cols_imdb)\n",
    "\n"
   ]
  },
  {
   "cell_type": "code",
   "execution_count": 46,
   "metadata": {},
   "outputs": [],
   "source": [
    "13057170\n",
    "for _,item in enumerate(m_list):\n",
    "    res=ts.Find(id=item).info(external_source='imdb_id')['movie_results']\n",
    "    \n",
    "    #Deleting an id is equivalent to mark as done\n",
    "    m_curr.pop(0)\n",
    "    \n",
    "    #If there is a match\n",
    "    if res:\n",
    "        res=res[0]\n",
    "        row=dict.fromkeys(df_col,'')\n",
    "    \n",
    "        row['imdb_id']=item\n",
    "        row['tmdb_id']=res['id']\n",
    "        row['original_language']=res['original_language']\n",
    "        row['original_title']=res['original_title']\n",
    "        row['adult']=res['adult']\n",
    "        row['overview']=res['overview']\n",
    "        if res['poster_path']:\n",
    "            row['poster_path']='http://image.tmdb.org/t/p/original'+ res['poster_path']\n",
    "        row['popularity']=res['popularity']\n",
    "        \n",
    "        df_new=df_new.append(row,ignore_index=True)\n",
    "        \n"
   ]
  },
  {
   "cell_type": "code",
   "execution_count": 48,
   "metadata": {},
   "outputs": [
    {
     "data": {
      "text/plain": [
       "3142228"
      ]
     },
     "execution_count": 48,
     "metadata": {},
     "output_type": "execute_result"
    }
   ],
   "source": [
    "13057170-9914942"
   ]
  },
  {
   "cell_type": "code",
   "execution_count": 5,
   "metadata": {},
   "outputs": [],
   "source": [
    "df=pd.read_json('movie_ids_10_19_2020.json',lines=True)"
   ]
  },
  {
   "cell_type": "code",
   "execution_count": 6,
   "metadata": {},
   "outputs": [
    {
     "data": {
      "text/html": [
       "<div>\n",
       "<style scoped>\n",
       "    .dataframe tbody tr th:only-of-type {\n",
       "        vertical-align: middle;\n",
       "    }\n",
       "\n",
       "    .dataframe tbody tr th {\n",
       "        vertical-align: top;\n",
       "    }\n",
       "\n",
       "    .dataframe thead th {\n",
       "        text-align: right;\n",
       "    }\n",
       "</style>\n",
       "<table border=\"1\" class=\"dataframe\">\n",
       "  <thead>\n",
       "    <tr style=\"text-align: right;\">\n",
       "      <th></th>\n",
       "      <th>adult</th>\n",
       "      <th>id</th>\n",
       "      <th>original_title</th>\n",
       "      <th>popularity</th>\n",
       "      <th>video</th>\n",
       "    </tr>\n",
       "  </thead>\n",
       "  <tbody>\n",
       "    <tr>\n",
       "      <th>0</th>\n",
       "      <td>False</td>\n",
       "      <td>3924</td>\n",
       "      <td>Blondie</td>\n",
       "      <td>2.726</td>\n",
       "      <td>False</td>\n",
       "    </tr>\n",
       "    <tr>\n",
       "      <th>1</th>\n",
       "      <td>False</td>\n",
       "      <td>6124</td>\n",
       "      <td>Der Mann ohne Namen</td>\n",
       "      <td>0.840</td>\n",
       "      <td>False</td>\n",
       "    </tr>\n",
       "    <tr>\n",
       "      <th>2</th>\n",
       "      <td>False</td>\n",
       "      <td>8773</td>\n",
       "      <td>L'amour à vingt ans</td>\n",
       "      <td>3.243</td>\n",
       "      <td>False</td>\n",
       "    </tr>\n",
       "    <tr>\n",
       "      <th>3</th>\n",
       "      <td>False</td>\n",
       "      <td>21624</td>\n",
       "      <td>Jatts in Golmaal</td>\n",
       "      <td>0.600</td>\n",
       "      <td>False</td>\n",
       "    </tr>\n",
       "    <tr>\n",
       "      <th>4</th>\n",
       "      <td>False</td>\n",
       "      <td>25449</td>\n",
       "      <td>New World Disorder 9: Never Enough</td>\n",
       "      <td>1.542</td>\n",
       "      <td>False</td>\n",
       "    </tr>\n",
       "  </tbody>\n",
       "</table>\n",
       "</div>"
      ],
      "text/plain": [
       "   adult     id                      original_title  popularity  video\n",
       "0  False   3924                             Blondie       2.726  False\n",
       "1  False   6124                 Der Mann ohne Namen       0.840  False\n",
       "2  False   8773                 L'amour à vingt ans       3.243  False\n",
       "3  False  21624                    Jatts in Golmaal       0.600  False\n",
       "4  False  25449  New World Disorder 9: Never Enough       1.542  False"
      ]
     },
     "execution_count": 6,
     "metadata": {},
     "output_type": "execute_result"
    }
   ],
   "source": [
    "df.head()"
   ]
  },
  {
   "cell_type": "code",
   "execution_count": 10,
   "metadata": {},
   "outputs": [],
   "source": [
    "df=df[df.popularity > 0.5]"
   ]
  },
  {
   "cell_type": "code",
   "execution_count": 11,
   "metadata": {},
   "outputs": [
    {
     "data": {
      "text/plain": [
       "(550930, 5)"
      ]
     },
     "execution_count": 11,
     "metadata": {},
     "output_type": "execute_result"
    }
   ],
   "source": [
    "df.shape"
   ]
  },
  {
   "cell_type": "code",
   "execution_count": 12,
   "metadata": {},
   "outputs": [],
   "source": [
    "df=df[df.id > 590000]"
   ]
  },
  {
   "cell_type": "code",
   "execution_count": 13,
   "metadata": {},
   "outputs": [
    {
     "data": {
      "text/plain": [
       "(129821, 5)"
      ]
     },
     "execution_count": 13,
     "metadata": {},
     "output_type": "execute_result"
    }
   ],
   "source": [
    "df.shape"
   ]
  },
  {
   "cell_type": "code",
   "execution_count": 14,
   "metadata": {},
   "outputs": [],
   "source": [
    "lst_new=pd.read_csv('new_movie.csv')['tmdb_id'].tolist()"
   ]
  },
  {
   "cell_type": "code",
   "execution_count": 15,
   "metadata": {},
   "outputs": [
    {
     "data": {
      "text/plain": [
       "(127816, 5)"
      ]
     },
     "execution_count": 15,
     "metadata": {},
     "output_type": "execute_result"
    }
   ],
   "source": [
    "test=df[~df.id.isin(lst_new)]\n",
    "test.shape"
   ]
  },
  {
   "cell_type": "code",
   "execution_count": 20,
   "metadata": {},
   "outputs": [
    {
     "ename": "HTTPError",
     "evalue": "404 Client Error: Not Found for url: https://api.themoviedb.org/3/movie/590000000?api_key=e8ad3a064b09b320f171bc110b451cfd",
     "output_type": "error",
     "traceback": [
      "\u001b[1;31m---------------------------------------------------------------------------\u001b[0m",
      "\u001b[1;31mHTTPError\u001b[0m                                 Traceback (most recent call last)",
      "\u001b[1;32m<ipython-input-20-06f710a5bb0e>\u001b[0m in \u001b[0;36m<module>\u001b[1;34m\u001b[0m\n\u001b[1;32m----> 1\u001b[1;33m \u001b[0mres\u001b[0m\u001b[1;33m=\u001b[0m\u001b[0mts\u001b[0m\u001b[1;33m.\u001b[0m\u001b[0mMovies\u001b[0m\u001b[1;33m(\u001b[0m\u001b[0mid\u001b[0m\u001b[1;33m=\u001b[0m\u001b[1;34m'590000000'\u001b[0m\u001b[1;33m)\u001b[0m\u001b[1;33m.\u001b[0m\u001b[0minfo\u001b[0m\u001b[1;33m(\u001b[0m\u001b[1;33m)\u001b[0m\u001b[1;33m\u001b[0m\u001b[1;33m\u001b[0m\u001b[0m\n\u001b[0m",
      "\u001b[1;32m~\\.conda\\envs\\PDSH\\lib\\site-packages\\tmdbsimple\\movies.py\u001b[0m in \u001b[0;36minfo\u001b[1;34m(self, **kwargs)\u001b[0m\n\u001b[0;32m     70\u001b[0m         \u001b[0mpath\u001b[0m \u001b[1;33m=\u001b[0m \u001b[0mself\u001b[0m\u001b[1;33m.\u001b[0m\u001b[0m_get_id_path\u001b[0m\u001b[1;33m(\u001b[0m\u001b[1;34m'info'\u001b[0m\u001b[1;33m)\u001b[0m\u001b[1;33m\u001b[0m\u001b[1;33m\u001b[0m\u001b[0m\n\u001b[0;32m     71\u001b[0m \u001b[1;33m\u001b[0m\u001b[0m\n\u001b[1;32m---> 72\u001b[1;33m         \u001b[0mresponse\u001b[0m \u001b[1;33m=\u001b[0m \u001b[0mself\u001b[0m\u001b[1;33m.\u001b[0m\u001b[0m_GET\u001b[0m\u001b[1;33m(\u001b[0m\u001b[0mpath\u001b[0m\u001b[1;33m,\u001b[0m \u001b[0mkwargs\u001b[0m\u001b[1;33m)\u001b[0m\u001b[1;33m\u001b[0m\u001b[1;33m\u001b[0m\u001b[0m\n\u001b[0m\u001b[0;32m     73\u001b[0m         \u001b[0mself\u001b[0m\u001b[1;33m.\u001b[0m\u001b[0m_set_attrs_to_values\u001b[0m\u001b[1;33m(\u001b[0m\u001b[0mresponse\u001b[0m\u001b[1;33m)\u001b[0m\u001b[1;33m\u001b[0m\u001b[1;33m\u001b[0m\u001b[0m\n\u001b[0;32m     74\u001b[0m         \u001b[1;32mreturn\u001b[0m \u001b[0mresponse\u001b[0m\u001b[1;33m\u001b[0m\u001b[1;33m\u001b[0m\u001b[0m\n",
      "\u001b[1;32m~\\.conda\\envs\\PDSH\\lib\\site-packages\\tmdbsimple\\base.py\u001b[0m in \u001b[0;36m_GET\u001b[1;34m(self, path, params)\u001b[0m\n\u001b[0;32m     91\u001b[0m \u001b[1;33m\u001b[0m\u001b[0m\n\u001b[0;32m     92\u001b[0m     \u001b[1;32mdef\u001b[0m \u001b[0m_GET\u001b[0m\u001b[1;33m(\u001b[0m\u001b[0mself\u001b[0m\u001b[1;33m,\u001b[0m \u001b[0mpath\u001b[0m\u001b[1;33m,\u001b[0m \u001b[0mparams\u001b[0m\u001b[1;33m=\u001b[0m\u001b[1;32mNone\u001b[0m\u001b[1;33m)\u001b[0m\u001b[1;33m:\u001b[0m\u001b[1;33m\u001b[0m\u001b[1;33m\u001b[0m\u001b[0m\n\u001b[1;32m---> 93\u001b[1;33m         \u001b[1;32mreturn\u001b[0m \u001b[0mself\u001b[0m\u001b[1;33m.\u001b[0m\u001b[0m_request\u001b[0m\u001b[1;33m(\u001b[0m\u001b[1;34m'GET'\u001b[0m\u001b[1;33m,\u001b[0m \u001b[0mpath\u001b[0m\u001b[1;33m,\u001b[0m \u001b[0mparams\u001b[0m\u001b[1;33m=\u001b[0m\u001b[0mparams\u001b[0m\u001b[1;33m)\u001b[0m\u001b[1;33m\u001b[0m\u001b[1;33m\u001b[0m\u001b[0m\n\u001b[0m\u001b[0;32m     94\u001b[0m \u001b[1;33m\u001b[0m\u001b[0m\n\u001b[0;32m     95\u001b[0m     \u001b[1;32mdef\u001b[0m \u001b[0m_POST\u001b[0m\u001b[1;33m(\u001b[0m\u001b[0mself\u001b[0m\u001b[1;33m,\u001b[0m \u001b[0mpath\u001b[0m\u001b[1;33m,\u001b[0m \u001b[0mparams\u001b[0m\u001b[1;33m=\u001b[0m\u001b[1;32mNone\u001b[0m\u001b[1;33m,\u001b[0m \u001b[0mpayload\u001b[0m\u001b[1;33m=\u001b[0m\u001b[1;32mNone\u001b[0m\u001b[1;33m)\u001b[0m\u001b[1;33m:\u001b[0m\u001b[1;33m\u001b[0m\u001b[1;33m\u001b[0m\u001b[0m\n",
      "\u001b[1;32m~\\.conda\\envs\\PDSH\\lib\\site-packages\\tmdbsimple\\base.py\u001b[0m in \u001b[0;36m_request\u001b[1;34m(self, method, path, params, payload)\u001b[0m\n\u001b[0;32m     86\u001b[0m             headers=self.headers)\n\u001b[0;32m     87\u001b[0m \u001b[1;33m\u001b[0m\u001b[0m\n\u001b[1;32m---> 88\u001b[1;33m         \u001b[0mresponse\u001b[0m\u001b[1;33m.\u001b[0m\u001b[0mraise_for_status\u001b[0m\u001b[1;33m(\u001b[0m\u001b[1;33m)\u001b[0m\u001b[1;33m\u001b[0m\u001b[1;33m\u001b[0m\u001b[0m\n\u001b[0m\u001b[0;32m     89\u001b[0m         \u001b[0mresponse\u001b[0m\u001b[1;33m.\u001b[0m\u001b[0mencoding\u001b[0m \u001b[1;33m=\u001b[0m \u001b[1;34m'utf-8'\u001b[0m\u001b[1;33m\u001b[0m\u001b[1;33m\u001b[0m\u001b[0m\n\u001b[0;32m     90\u001b[0m         \u001b[1;32mreturn\u001b[0m \u001b[0mresponse\u001b[0m\u001b[1;33m.\u001b[0m\u001b[0mjson\u001b[0m\u001b[1;33m(\u001b[0m\u001b[1;33m)\u001b[0m\u001b[1;33m\u001b[0m\u001b[1;33m\u001b[0m\u001b[0m\n",
      "\u001b[1;32m~\\.conda\\envs\\PDSH\\lib\\site-packages\\requests\\models.py\u001b[0m in \u001b[0;36mraise_for_status\u001b[1;34m(self)\u001b[0m\n\u001b[0;32m    939\u001b[0m \u001b[1;33m\u001b[0m\u001b[0m\n\u001b[0;32m    940\u001b[0m         \u001b[1;32mif\u001b[0m \u001b[0mhttp_error_msg\u001b[0m\u001b[1;33m:\u001b[0m\u001b[1;33m\u001b[0m\u001b[1;33m\u001b[0m\u001b[0m\n\u001b[1;32m--> 941\u001b[1;33m             \u001b[1;32mraise\u001b[0m \u001b[0mHTTPError\u001b[0m\u001b[1;33m(\u001b[0m\u001b[0mhttp_error_msg\u001b[0m\u001b[1;33m,\u001b[0m \u001b[0mresponse\u001b[0m\u001b[1;33m=\u001b[0m\u001b[0mself\u001b[0m\u001b[1;33m)\u001b[0m\u001b[1;33m\u001b[0m\u001b[1;33m\u001b[0m\u001b[0m\n\u001b[0m\u001b[0;32m    942\u001b[0m \u001b[1;33m\u001b[0m\u001b[0m\n\u001b[0;32m    943\u001b[0m     \u001b[1;32mdef\u001b[0m \u001b[0mclose\u001b[0m\u001b[1;33m(\u001b[0m\u001b[0mself\u001b[0m\u001b[1;33m)\u001b[0m\u001b[1;33m:\u001b[0m\u001b[1;33m\u001b[0m\u001b[1;33m\u001b[0m\u001b[0m\n",
      "\u001b[1;31mHTTPError\u001b[0m: 404 Client Error: Not Found for url: https://api.themoviedb.org/3/movie/590000000?api_key=e8ad3a064b09b320f171bc110b451cfd"
     ]
    }
   ],
   "source": [
    "res=ts.Movies(id='590000000').info()"
   ]
  },
  {
   "cell_type": "code",
   "execution_count": 19,
   "metadata": {},
   "outputs": [
    {
     "data": {
      "text/plain": [
       "{'adult': True,\n",
       " 'backdrop_path': None,\n",
       " 'belongs_to_collection': None,\n",
       " 'budget': 0,\n",
       " 'genres': [],\n",
       " 'homepage': '',\n",
       " 'id': 59000,\n",
       " 'imdb_id': '',\n",
       " 'original_language': 'en',\n",
       " 'original_title': \"Samantha's Sexy Summer\",\n",
       " 'overview': 'While searching for ancient ruins, Samantha and her friends lose track of one another. As day turns into night, and the group fails to reconnect, the girls grow hot and restless. As the temperature rises, so do their desires, and a game with wickedly sexual rules begins.',\n",
       " 'popularity': 0.6,\n",
       " 'poster_path': None,\n",
       " 'production_companies': [],\n",
       " 'production_countries': [],\n",
       " 'release_date': '',\n",
       " 'revenue': 0,\n",
       " 'runtime': 90,\n",
       " 'spoken_languages': [],\n",
       " 'status': 'Released',\n",
       " 'tagline': '',\n",
       " 'title': \"Samantha's Sexy Summer\",\n",
       " 'video': False,\n",
       " 'vote_average': 0.0,\n",
       " 'vote_count': 0}"
      ]
     },
     "execution_count": 19,
     "metadata": {},
     "output_type": "execute_result"
    }
   ],
   "source": [
    "res"
   ]
  },
  {
   "cell_type": "code",
   "execution_count": 21,
   "metadata": {},
   "outputs": [
    {
     "data": {
      "text/html": [
       "<div>\n",
       "<style scoped>\n",
       "    .dataframe tbody tr th:only-of-type {\n",
       "        vertical-align: middle;\n",
       "    }\n",
       "\n",
       "    .dataframe tbody tr th {\n",
       "        vertical-align: top;\n",
       "    }\n",
       "\n",
       "    .dataframe thead th {\n",
       "        text-align: right;\n",
       "    }\n",
       "</style>\n",
       "<table border=\"1\" class=\"dataframe\">\n",
       "  <thead>\n",
       "    <tr style=\"text-align: right;\">\n",
       "      <th></th>\n",
       "      <th>id</th>\n",
       "      <th>video</th>\n",
       "      <th>vote_count</th>\n",
       "      <th>vote_average</th>\n",
       "      <th>title</th>\n",
       "      <th>release_date</th>\n",
       "      <th>original_language</th>\n",
       "      <th>original_title</th>\n",
       "      <th>genre_ids</th>\n",
       "      <th>backdrop_path</th>\n",
       "      <th>adult</th>\n",
       "      <th>overview</th>\n",
       "      <th>poster_path</th>\n",
       "      <th>popularity</th>\n",
       "    </tr>\n",
       "  </thead>\n",
       "  <tbody>\n",
       "    <tr>\n",
       "      <th>0</th>\n",
       "      <td>727566</td>\n",
       "      <td>False</td>\n",
       "      <td>5</td>\n",
       "      <td>6.0</td>\n",
       "      <td>Parallel Minds</td>\n",
       "      <td>2020-09-01</td>\n",
       "      <td>en</td>\n",
       "      <td>Parallel Minds</td>\n",
       "      <td>[878, 53]</td>\n",
       "      <td>None</td>\n",
       "      <td>False</td>\n",
       "      <td>In the near future, technology firm Red-Eye is...</td>\n",
       "      <td>/a1akVAxuybjcJiUSjF30Srtlpy7.jpg</td>\n",
       "      <td>7.907</td>\n",
       "    </tr>\n",
       "    <tr>\n",
       "      <th>1</th>\n",
       "      <td>662659</td>\n",
       "      <td>False</td>\n",
       "      <td>6</td>\n",
       "      <td>6.8</td>\n",
       "      <td>Marionette</td>\n",
       "      <td>2020-09-19</td>\n",
       "      <td>en</td>\n",
       "      <td>Marionette</td>\n",
       "      <td>[53]</td>\n",
       "      <td>/rXAPJmWafotXuD1NBj8XcZc6FFq.jpg</td>\n",
       "      <td>False</td>\n",
       "      <td>A therapist loses her grip on reality when a t...</td>\n",
       "      <td>/wNNAGw2TsYW4c3if252c6Il1fEc.jpg</td>\n",
       "      <td>9.413</td>\n",
       "    </tr>\n",
       "    <tr>\n",
       "      <th>2</th>\n",
       "      <td>615115</td>\n",
       "      <td>False</td>\n",
       "      <td>24</td>\n",
       "      <td>6.0</td>\n",
       "      <td>The Secrets We Keep</td>\n",
       "      <td>2020-09-16</td>\n",
       "      <td>en</td>\n",
       "      <td>The Secrets We Keep</td>\n",
       "      <td>[18, 53]</td>\n",
       "      <td>/7ajFPsJ0QWTElz8JO6K5P0G8n3R.jpg</td>\n",
       "      <td>False</td>\n",
       "      <td>In post-World War II America, a woman, rebuild...</td>\n",
       "      <td>/sobZ7jdhcrF9wu4RNHxMpRBIpyj.jpg</td>\n",
       "      <td>27.874</td>\n",
       "    </tr>\n",
       "    <tr>\n",
       "      <th>3</th>\n",
       "      <td>616251</td>\n",
       "      <td>False</td>\n",
       "      <td>18</td>\n",
       "      <td>6.8</td>\n",
       "      <td>The Broken Hearts Gallery</td>\n",
       "      <td>2020-09-11</td>\n",
       "      <td>en</td>\n",
       "      <td>The Broken Hearts Gallery</td>\n",
       "      <td>[35, 10749]</td>\n",
       "      <td>/uN69NvydA44NQVRg9Rq4t5nNQ2e.jpg</td>\n",
       "      <td>False</td>\n",
       "      <td>Lucy is a young gallery assistant who collects...</td>\n",
       "      <td>/wGkr4r1e8nubmSNKJpv3HL6sFrA.jpg</td>\n",
       "      <td>29.474</td>\n",
       "    </tr>\n",
       "    <tr>\n",
       "      <th>4</th>\n",
       "      <td>739010</td>\n",
       "      <td>False</td>\n",
       "      <td>10</td>\n",
       "      <td>5.6</td>\n",
       "      <td>LX 2048</td>\n",
       "      <td>2020-09-25</td>\n",
       "      <td>en</td>\n",
       "      <td>LX 2048</td>\n",
       "      <td>[18, 878]</td>\n",
       "      <td>/vKpaH5S9hprlMM6JnH8i86KDH6Y.jpg</td>\n",
       "      <td>False</td>\n",
       "      <td>In the near future, the sun has become so toxi...</td>\n",
       "      <td>/jmapKR4QIAFe4im2bG9SlUWUsC1.jpg</td>\n",
       "      <td>11.041</td>\n",
       "    </tr>\n",
       "  </tbody>\n",
       "</table>\n",
       "</div>"
      ],
      "text/plain": [
       "       id  video  vote_count  vote_average                      title  \\\n",
       "0  727566  False           5           6.0             Parallel Minds   \n",
       "1  662659  False           6           6.8                 Marionette   \n",
       "2  615115  False          24           6.0        The Secrets We Keep   \n",
       "3  616251  False          18           6.8  The Broken Hearts Gallery   \n",
       "4  739010  False          10           5.6                    LX 2048   \n",
       "\n",
       "  release_date original_language             original_title    genre_ids  \\\n",
       "0   2020-09-01                en             Parallel Minds    [878, 53]   \n",
       "1   2020-09-19                en                 Marionette         [53]   \n",
       "2   2020-09-16                en        The Secrets We Keep     [18, 53]   \n",
       "3   2020-09-11                en  The Broken Hearts Gallery  [35, 10749]   \n",
       "4   2020-09-25                en                    LX 2048    [18, 878]   \n",
       "\n",
       "                      backdrop_path  adult  \\\n",
       "0                              None  False   \n",
       "1  /rXAPJmWafotXuD1NBj8XcZc6FFq.jpg  False   \n",
       "2  /7ajFPsJ0QWTElz8JO6K5P0G8n3R.jpg  False   \n",
       "3  /uN69NvydA44NQVRg9Rq4t5nNQ2e.jpg  False   \n",
       "4  /vKpaH5S9hprlMM6JnH8i86KDH6Y.jpg  False   \n",
       "\n",
       "                                            overview  \\\n",
       "0  In the near future, technology firm Red-Eye is...   \n",
       "1  A therapist loses her grip on reality when a t...   \n",
       "2  In post-World War II America, a woman, rebuild...   \n",
       "3  Lucy is a young gallery assistant who collects...   \n",
       "4  In the near future, the sun has become so toxi...   \n",
       "\n",
       "                        poster_path  popularity  \n",
       "0  /a1akVAxuybjcJiUSjF30Srtlpy7.jpg       7.907  \n",
       "1  /wNNAGw2TsYW4c3if252c6Il1fEc.jpg       9.413  \n",
       "2  /sobZ7jdhcrF9wu4RNHxMpRBIpyj.jpg      27.874  \n",
       "3  /wGkr4r1e8nubmSNKJpv3HL6sFrA.jpg      29.474  \n",
       "4  /jmapKR4QIAFe4im2bG9SlUWUsC1.jpg      11.041  "
      ]
     },
     "execution_count": 21,
     "metadata": {},
     "output_type": "execute_result"
    }
   ],
   "source": [
    "df_test=pd.json_normalize(ts.Movies(id='528085').recommendations()['results'])\n",
    "df_test.head()\n"
   ]
  },
  {
   "cell_type": "code",
   "execution_count": 37,
   "metadata": {
    "scrolled": false
   },
   "outputs": [
    {
     "data": {
      "text/plain": [
       "{'page': 1,\n",
       " 'results': [{'id': 499932,\n",
       "   'video': False,\n",
       "   'vote_count': 1108,\n",
       "   'vote_average': 7.4,\n",
       "   'title': 'The Devil All the Time',\n",
       "   'release_date': '2020-09-11',\n",
       "   'original_language': 'en',\n",
       "   'original_title': 'The Devil All the Time',\n",
       "   'genre_ids': [80, 18, 53],\n",
       "   'backdrop_path': '/rUeqBuNDR9zN6vZV9kpEFMtQm0E.jpg',\n",
       "   'adult': False,\n",
       "   'overview': 'In Knockemstiff, Ohio and its neighboring backwoods, sinister characters converge around young Arvin Russell as he fights the evil forces that threaten him and his family.',\n",
       "   'poster_path': '/7G2VvG1lU8q758uOqU6z2Ds0qpA.jpg',\n",
       "   'popularity': 136.263},\n",
       "  {'id': 605116,\n",
       "   'video': False,\n",
       "   'vote_count': 1465,\n",
       "   'vote_average': 6.6,\n",
       "   'title': 'Project Power',\n",
       "   'release_date': '2020-08-14',\n",
       "   'original_language': 'en',\n",
       "   'original_title': 'Project Power',\n",
       "   'genre_ids': [28, 80, 878],\n",
       "   'backdrop_path': '/qVygtf2vU15L2yKS4Ke44U4oMdD.jpg',\n",
       "   'adult': False,\n",
       "   'overview': 'An ex-soldier, a teen and a cop collide in New Orleans as they hunt for the source behind a dangerous new pill that grants users temporary superpowers.',\n",
       "   'poster_path': '/TnOeov4w0sTtV2gqICqIxVi74V.jpg',\n",
       "   'popularity': 428.81},\n",
       "  {'id': 547016,\n",
       "   'video': False,\n",
       "   'vote_count': 2189,\n",
       "   'vote_average': 7.3,\n",
       "   'title': 'The Old Guard',\n",
       "   'release_date': '2020-07-10',\n",
       "   'original_language': 'en',\n",
       "   'original_title': 'The Old Guard',\n",
       "   'genre_ids': [28, 14],\n",
       "   'backdrop_path': '/m0ObOaJBerZ3Unc74l471ar8Iiy.jpg',\n",
       "   'adult': False,\n",
       "   'overview': \"Four undying warriors who've secretly protected humanity for centuries become targeted for their mysterious powers just as they discover a new immortal.\",\n",
       "   'poster_path': '/cjr4NWURcVN3gW5FlHeabgBHLrY.jpg',\n",
       "   'popularity': 329.598},\n",
       "  {'id': 617505,\n",
       "   'video': False,\n",
       "   'vote_count': 530,\n",
       "   'vote_average': 6.3,\n",
       "   'title': 'Hubie Halloween',\n",
       "   'release_date': '2020-10-07',\n",
       "   'original_language': 'en',\n",
       "   'original_title': 'Hubie Halloween',\n",
       "   'genre_ids': [35, 27, 9648],\n",
       "   'backdrop_path': '/aOeshAxAhiDVIiHsXVFmF6bgclh.jpg',\n",
       "   'adult': False,\n",
       "   'overview': 'Hubie Dubois who, despite his devotion to his hometown of Salem, Massachusetts (and its legendary Halloween celebration), is a figure of mockery for kids and adults alike. But this year, something really is going bump in the night, and it’s up to Hubie to save Halloween.',\n",
       "   'poster_path': '/dbhC6qRydXyRmpUdcl9bL9rARya.jpg',\n",
       "   'popularity': 311.945},\n",
       "  {'id': 546554,\n",
       "   'video': False,\n",
       "   'vote_count': 5786,\n",
       "   'vote_average': 7.9,\n",
       "   'title': 'Knives Out',\n",
       "   'release_date': '2019-11-27',\n",
       "   'original_language': 'en',\n",
       "   'original_title': 'Knives Out',\n",
       "   'genre_ids': [35, 80, 18, 9648, 53],\n",
       "   'backdrop_path': '/4HWAQu28e2yaWrtupFPGFkdNU7V.jpg',\n",
       "   'adult': False,\n",
       "   'overview': \"When renowned crime novelist Harlan Thrombey is found dead at his estate just after his 85th birthday, the inquisitive and debonair Detective Benoit Blanc is mysteriously enlisted to investigate. From Harlan's dysfunctional family to his devoted staff, Blanc sifts through a web of red herrings and self-serving lies to uncover the truth behind Harlan's untimely death.\",\n",
       "   'poster_path': '/pThyQovXQrw2m0s9x82twj48Jq4.jpg',\n",
       "   'popularity': 57.766},\n",
       "  {'id': 623491,\n",
       "   'video': False,\n",
       "   'vote_count': 512,\n",
       "   'vote_average': 6.8,\n",
       "   'title': 'The Babysitter: Killer Queen',\n",
       "   'release_date': '2020-09-10',\n",
       "   'original_language': 'en',\n",
       "   'original_title': 'The Babysitter: Killer Queen',\n",
       "   'genre_ids': [35, 27],\n",
       "   'backdrop_path': '/naUJGskMlDg2HZ0FhsaMG5xPF2K.jpg',\n",
       "   'adult': False,\n",
       "   'overview': \"Two years after defeating a satanic cult led by his babysitter Bee, Cole's trying to forget his past and focus on surviving high school. But when old enemies unexpectedly return, Cole will once again have to outsmart the forces of evil.\",\n",
       "   'poster_path': '/yx7akzfwbPCLlxKgZ1NycThFC92.jpg',\n",
       "   'popularity': 84.075},\n",
       "  {'id': 612706,\n",
       "   'video': False,\n",
       "   'vote_count': 692,\n",
       "   'vote_average': 7.8,\n",
       "   'title': 'Work It',\n",
       "   'release_date': '2020-08-07',\n",
       "   'original_language': 'en',\n",
       "   'original_title': 'Work It',\n",
       "   'genre_ids': [35, 10402],\n",
       "   'backdrop_path': '/ishzDCZIv9iWfI70nv5E4ZreYUD.jpg',\n",
       "   'adult': False,\n",
       "   'overview': \"A brilliant but clumsy high school senior vows to get into her late father's alma mater by transforming herself and a misfit squad into dance champions.\",\n",
       "   'poster_path': '/b5XfICAvUe8beWExBz97i0Qw4Qh.jpg',\n",
       "   'popularity': 103.406},\n",
       "  {'id': 624808,\n",
       "   'video': False,\n",
       "   'vote_count': 456,\n",
       "   'vote_average': 5.7,\n",
       "   'title': 'Love Wedding Repeat',\n",
       "   'release_date': '2020-04-10',\n",
       "   'original_language': 'en',\n",
       "   'original_title': 'Love Wedding Repeat',\n",
       "   'genre_ids': [35, 10749],\n",
       "   'backdrop_path': '/ruxOWt2iCPM4tV2PY3OuYJHt4Do.jpg',\n",
       "   'adult': False,\n",
       "   'overview': \"While trying to make his sister's wedding day go smoothly, Jack finds himself juggling an angry ex-girlfriend, an uninvited guest with a secret, a misplaced sleep sedative, and the girl that got away in alternate versions of the same day.\",\n",
       "   'poster_path': '/zn7feouGPU8sELez4qvpp0EtgeQ.jpg',\n",
       "   'popularity': 30.373},\n",
       "  {'id': 565426,\n",
       "   'video': False,\n",
       "   'vote_count': 1483,\n",
       "   'vote_average': 6.9,\n",
       "   'title': 'To All the Boys: P.S. I Still Love You',\n",
       "   'release_date': '2020-02-12',\n",
       "   'original_language': 'en',\n",
       "   'original_title': 'To All the Boys: P.S. I Still Love You',\n",
       "   'genre_ids': [35, 10749],\n",
       "   'backdrop_path': '/9LsJP9OuIBmBUxZpmVKtUUjF0PA.jpg',\n",
       "   'adult': False,\n",
       "   'overview': 'Lara Jean and Peter have just taken their romance from pretend to officially real when another recipient of one of her love letters enters the picture.',\n",
       "   'poster_path': '/maib5VlmEqp5xlN8lptnBSftp2o.jpg',\n",
       "   'popularity': 63.439},\n",
       "  {'id': 509967,\n",
       "   'video': False,\n",
       "   'vote_count': 2598,\n",
       "   'vote_average': 6.3,\n",
       "   'title': '6 Underground',\n",
       "   'release_date': '2019-12-13',\n",
       "   'original_language': 'en',\n",
       "   'original_title': '6 Underground',\n",
       "   'genre_ids': [28, 53],\n",
       "   'backdrop_path': '/eFw5YSorHidsajLTayo1noueIxI.jpg',\n",
       "   'adult': False,\n",
       "   'overview': 'After faking his death, a tech billionaire recruits a team of international operatives for a bold and bloody mission to take down a brutal dictator.',\n",
       "   'poster_path': '/lnWkyG3LLgbbrIEeyl5mK5VRFe4.jpg',\n",
       "   'popularity': 147.655},\n",
       "  {'id': 514999,\n",
       "   'video': False,\n",
       "   'vote_count': 2524,\n",
       "   'vote_average': 6.3,\n",
       "   'title': 'Murder Mystery',\n",
       "   'release_date': '2019-05-25',\n",
       "   'original_language': 'en',\n",
       "   'original_title': 'Murder Mystery',\n",
       "   'genre_ids': [28, 35, 80, 9648],\n",
       "   'backdrop_path': '/qeFO3u2IqbAeIT1Xgo6POqYbCaQ.jpg',\n",
       "   'adult': False,\n",
       "   'overview': \"After attending a gathering on a billionaire's yacht during a European vacation, a New York cop and his wife become prime suspects when he's murdered.\",\n",
       "   'poster_path': '/b7dbE7sgqxWnQzepWQycYJ1W0qJ.jpg',\n",
       "   'popularity': 30.333},\n",
       "  {'id': 644090,\n",
       "   'video': False,\n",
       "   'vote_count': 311,\n",
       "   'vote_average': 6.6,\n",
       "   'title': 'Love, Guaranteed',\n",
       "   'release_date': '2020-09-02',\n",
       "   'original_language': 'en',\n",
       "   'original_title': 'Love, Guaranteed',\n",
       "   'genre_ids': [35, 10749],\n",
       "   'backdrop_path': '/i6X9J6AgGhR3FNTtEc5GRs9e3ya.jpg',\n",
       "   'adult': False,\n",
       "   'overview': 'A lawyer takes on a new client that wants to sue a dating website because it guarantees love.',\n",
       "   'poster_path': '/6K22JB6fZZLBuM0knfl8rs9Zoxg.jpg',\n",
       "   'popularity': 95.216},\n",
       "  {'id': 504949,\n",
       "   'video': False,\n",
       "   'vote_count': 1712,\n",
       "   'vote_average': 7.2,\n",
       "   'title': 'The King',\n",
       "   'release_date': '2019-10-11',\n",
       "   'original_language': 'en',\n",
       "   'original_title': 'The King',\n",
       "   'genre_ids': [18, 36, 10752],\n",
       "   'backdrop_path': '/r0AWsZ9dBvC2No3kND9nxv3iRbb.jpg',\n",
       "   'adult': False,\n",
       "   'overview': 'England, 15th century. Hal, a capricious prince who lives among the populace far from court, is forced by circumstances to reluctantly accept the throne and become Henry V.',\n",
       "   'poster_path': '/8u0QBGUbZcBW59VEAdmeFl9g98N.jpg',\n",
       "   'popularity': 62.762},\n",
       "  {'id': 545609,\n",
       "   'video': False,\n",
       "   'vote_count': 3166,\n",
       "   'vote_average': 7.4,\n",
       "   'title': 'Extraction',\n",
       "   'release_date': '2020-04-24',\n",
       "   'original_language': 'en',\n",
       "   'original_title': 'Extraction',\n",
       "   'genre_ids': [28, 18, 53],\n",
       "   'backdrop_path': '/1R6cvRtZgsYCkh8UFuWFN33xBP4.jpg',\n",
       "   'adult': False,\n",
       "   'overview': 'Tyler Rake, a fearless mercenary who offers his services on the black market, embarks on a dangerous mission when he is hired to rescue the kidnapped son of a Mumbai crime lord…',\n",
       "   'poster_path': '/wlfDxbGEsW58vGhFljKkcR5IxDj.jpg',\n",
       "   'popularity': 219.003},\n",
       "  {'id': 331482,\n",
       "   'video': False,\n",
       "   'vote_count': 2965,\n",
       "   'vote_average': 8.0,\n",
       "   'title': 'Little Women',\n",
       "   'release_date': '2019-12-25',\n",
       "   'original_language': 'en',\n",
       "   'original_title': 'Little Women',\n",
       "   'genre_ids': [18, 10749],\n",
       "   'backdrop_path': '/lqxxwTRk0l7CubY6JkJdhnwJEkn.jpg',\n",
       "   'adult': False,\n",
       "   'overview': 'Four sisters come of age in America in the aftermath of the Civil War.',\n",
       "   'poster_path': '/yn5ihODtZ7ofn8pDYfxCmxh8AXI.jpg',\n",
       "   'popularity': 48.089},\n",
       "  {'id': 508965,\n",
       "   'video': False,\n",
       "   'vote_count': 1876,\n",
       "   'vote_average': 8.3,\n",
       "   'title': 'Klaus',\n",
       "   'release_date': '2019-11-08',\n",
       "   'original_language': 'en',\n",
       "   'original_title': 'Klaus',\n",
       "   'genre_ids': [12, 16, 35, 10751],\n",
       "   'backdrop_path': '/xBD64RBepJDWmGhcxZMiJC9JKRZ.jpg',\n",
       "   'adult': False,\n",
       "   'overview': \"When Jesper distinguishes himself as the Postal Academy's worst student, he is sent to Smeerensburg, a small village located on an icy island above the Arctic Circle, where grumpy inhabitants barely exchange words, let alone letters. Jesper is about to give up and abandon his duty as a postman when he meets local teacher Alva and Klaus, a mysterious carpenter who lives alone in a cabin full of handmade toys.\",\n",
       "   'poster_path': '/q125RHUDgR4gjwh1QkfYuJLYkL.jpg',\n",
       "   'popularity': 49.833},\n",
       "  {'id': 597219,\n",
       "   'video': False,\n",
       "   'vote_count': 820,\n",
       "   'vote_average': 7.2,\n",
       "   'title': 'The Half of It',\n",
       "   'release_date': '2020-05-01',\n",
       "   'original_language': 'en',\n",
       "   'original_title': 'The Half of It',\n",
       "   'genre_ids': [35, 10749],\n",
       "   'backdrop_path': '/deTb672Jh4HGh48x4MVwHXIytQU.jpg',\n",
       "   'adult': False,\n",
       "   'overview': 'Shy, straight-A student Ellie is hired by sweet but inarticulate jock Paul, who needs help wooing the most popular girl in school. But their new and unlikely friendship gets tricky when Ellie discovers she has feelings for the same girl.',\n",
       "   'poster_path': '/jC1PNXGET1ZZQyrJvdFhPfXdPP1.jpg',\n",
       "   'popularity': 36.721},\n",
       "  {'id': 492188,\n",
       "   'video': False,\n",
       "   'vote_count': 4144,\n",
       "   'vote_average': 7.8,\n",
       "   'title': 'Marriage Story',\n",
       "   'release_date': '2019-11-06',\n",
       "   'original_language': 'en',\n",
       "   'original_title': 'Marriage Story',\n",
       "   'genre_ids': [18],\n",
       "   'backdrop_path': '/ojqT9Pm8GyVDiHSRSmG3cbn8YAh.jpg',\n",
       "   'adult': False,\n",
       "   'overview': 'A stage director and an actress struggle through a grueling, coast-to-coast divorce that pushes them to their personal extremes.',\n",
       "   'poster_path': '/pZekG6xabTmZxjmYw10wN84Hp8d.jpg',\n",
       "   'popularity': 37.089},\n",
       "  {'id': 515001,\n",
       "   'video': False,\n",
       "   'vote_count': 4928,\n",
       "   'vote_average': 8.1,\n",
       "   'title': 'Jojo Rabbit',\n",
       "   'release_date': '2019-10-18',\n",
       "   'original_language': 'en',\n",
       "   'original_title': 'Jojo Rabbit',\n",
       "   'genre_ids': [35, 18, 10752],\n",
       "   'backdrop_path': '/lTyikzfGgRX5ZqIfVeT26APYfRL.jpg',\n",
       "   'adult': False,\n",
       "   'overview': 'A World War II satire that follows a lonely German boy whose world view is turned upside down when he discovers his single mother is hiding a young Jewish girl in their attic. Aided only by his idiotic imaginary friend, Adolf Hitler, Jojo must confront his blind nationalism.',\n",
       "   'poster_path': '/7GsM4mtM0worCtIVeiQt28HieeN.jpg',\n",
       "   'popularity': 43.763},\n",
       "  {'id': 707886,\n",
       "   'video': False,\n",
       "   'vote_count': 697,\n",
       "   'vote_average': 7.9,\n",
       "   'title': 'Feel the Beat',\n",
       "   'release_date': '2020-06-19',\n",
       "   'original_language': 'en',\n",
       "   'original_title': 'Feel the Beat',\n",
       "   'genre_ids': [35, 18, 10402],\n",
       "   'backdrop_path': '/fZBQOScjDT8TAipEyCkLVeDTu5c.jpg',\n",
       "   'adult': False,\n",
       "   'overview': 'After failing to make it on Broadway, April returns to her hometown and reluctantly begins training a misfit group of young dancers for a competition.',\n",
       "   'poster_path': '/Af2jt7m9GLFpR4V11xOsFmT8OKD.jpg',\n",
       "   'popularity': 48.272}],\n",
       " 'total_pages': 2,\n",
       " 'total_results': 40}"
      ]
     },
     "execution_count": 37,
     "metadata": {},
     "output_type": "execute_result"
    }
   ],
   "source": [
    "ts.Movies(id='497582').recommendations()"
   ]
  },
  {
   "cell_type": "code",
   "execution_count": 33,
   "metadata": {},
   "outputs": [],
   "source": [
    "df_test=ts.Movies(id='724989').info(append_to_response='credits')"
   ]
  },
  {
   "cell_type": "code",
   "execution_count": 34,
   "metadata": {},
   "outputs": [
    {
     "data": {
      "text/html": [
       "<div>\n",
       "<style scoped>\n",
       "    .dataframe tbody tr th:only-of-type {\n",
       "        vertical-align: middle;\n",
       "    }\n",
       "\n",
       "    .dataframe tbody tr th {\n",
       "        vertical-align: top;\n",
       "    }\n",
       "\n",
       "    .dataframe thead th {\n",
       "        text-align: right;\n",
       "    }\n",
       "</style>\n",
       "<table border=\"1\" class=\"dataframe\">\n",
       "  <thead>\n",
       "    <tr style=\"text-align: right;\">\n",
       "      <th></th>\n",
       "      <th>adult</th>\n",
       "      <th>backdrop_path</th>\n",
       "      <th>belongs_to_collection</th>\n",
       "      <th>budget</th>\n",
       "      <th>genres</th>\n",
       "      <th>homepage</th>\n",
       "      <th>id</th>\n",
       "      <th>imdb_id</th>\n",
       "      <th>original_language</th>\n",
       "      <th>original_title</th>\n",
       "      <th>...</th>\n",
       "      <th>runtime</th>\n",
       "      <th>spoken_languages</th>\n",
       "      <th>status</th>\n",
       "      <th>tagline</th>\n",
       "      <th>title</th>\n",
       "      <th>video</th>\n",
       "      <th>vote_average</th>\n",
       "      <th>vote_count</th>\n",
       "      <th>credits.cast</th>\n",
       "      <th>credits.crew</th>\n",
       "    </tr>\n",
       "  </thead>\n",
       "  <tbody>\n",
       "    <tr>\n",
       "      <th>0</th>\n",
       "      <td>False</td>\n",
       "      <td>/86L8wqGMDbwURPni2t7FQ0nDjsH.jpg</td>\n",
       "      <td>None</td>\n",
       "      <td>0</td>\n",
       "      <td>[{'id': 28, 'name': 'Action'}, {'id': 53, 'nam...</td>\n",
       "      <td></td>\n",
       "      <td>724989</td>\n",
       "      <td>tt11656172</td>\n",
       "      <td>en</td>\n",
       "      <td>Hard Kill</td>\n",
       "      <td>...</td>\n",
       "      <td>98</td>\n",
       "      <td>[{'iso_639_1': 'en', 'name': 'English'}]</td>\n",
       "      <td>Released</td>\n",
       "      <td>Take on a madman. Save the world.</td>\n",
       "      <td>Hard Kill</td>\n",
       "      <td>False</td>\n",
       "      <td>3.9</td>\n",
       "      <td>13</td>\n",
       "      <td>[{'cast_id': 1, 'character': 'Chalmers', 'cred...</td>\n",
       "      <td>[{'credit_id': '5f10c0156dea3a0032f3910f', 'de...</td>\n",
       "    </tr>\n",
       "  </tbody>\n",
       "</table>\n",
       "<p>1 rows × 27 columns</p>\n",
       "</div>"
      ],
      "text/plain": [
       "   adult                     backdrop_path belongs_to_collection  budget  \\\n",
       "0  False  /86L8wqGMDbwURPni2t7FQ0nDjsH.jpg                  None       0   \n",
       "\n",
       "                                              genres homepage      id  \\\n",
       "0  [{'id': 28, 'name': 'Action'}, {'id': 53, 'nam...           724989   \n",
       "\n",
       "      imdb_id original_language original_title  ... runtime  \\\n",
       "0  tt11656172                en      Hard Kill  ...      98   \n",
       "\n",
       "                           spoken_languages    status  \\\n",
       "0  [{'iso_639_1': 'en', 'name': 'English'}]  Released   \n",
       "\n",
       "                             tagline      title  video  vote_average  \\\n",
       "0  Take on a madman. Save the world.  Hard Kill  False           3.9   \n",
       "\n",
       "   vote_count                                       credits.cast  \\\n",
       "0          13  [{'cast_id': 1, 'character': 'Chalmers', 'cred...   \n",
       "\n",
       "                                        credits.crew  \n",
       "0  [{'credit_id': '5f10c0156dea3a0032f3910f', 'de...  \n",
       "\n",
       "[1 rows x 27 columns]"
      ]
     },
     "execution_count": 34,
     "metadata": {},
     "output_type": "execute_result"
    }
   ],
   "source": [
    "pd.json_normalize(df_test)"
   ]
  },
  {
   "cell_type": "code",
   "execution_count": 12,
   "metadata": {},
   "outputs": [],
   "source": [
    "test=pd.json_normalize(ts.Movies().popular()['results'])"
   ]
  },
  {
   "cell_type": "code",
   "execution_count": 13,
   "metadata": {},
   "outputs": [
    {
     "data": {
      "text/html": [
       "<div>\n",
       "<style scoped>\n",
       "    .dataframe tbody tr th:only-of-type {\n",
       "        vertical-align: middle;\n",
       "    }\n",
       "\n",
       "    .dataframe tbody tr th {\n",
       "        vertical-align: top;\n",
       "    }\n",
       "\n",
       "    .dataframe thead th {\n",
       "        text-align: right;\n",
       "    }\n",
       "</style>\n",
       "<table border=\"1\" class=\"dataframe\">\n",
       "  <thead>\n",
       "    <tr style=\"text-align: right;\">\n",
       "      <th></th>\n",
       "      <th>popularity</th>\n",
       "      <th>vote_count</th>\n",
       "      <th>video</th>\n",
       "      <th>poster_path</th>\n",
       "      <th>id</th>\n",
       "      <th>adult</th>\n",
       "      <th>backdrop_path</th>\n",
       "      <th>original_language</th>\n",
       "      <th>original_title</th>\n",
       "      <th>genre_ids</th>\n",
       "      <th>title</th>\n",
       "      <th>vote_average</th>\n",
       "      <th>overview</th>\n",
       "      <th>release_date</th>\n",
       "    </tr>\n",
       "  </thead>\n",
       "  <tbody>\n",
       "    <tr>\n",
       "      <th>0</th>\n",
       "      <td>2257.847</td>\n",
       "      <td>171</td>\n",
       "      <td>False</td>\n",
       "      <td>/7D430eqZj8y3oVkLFfsWXGRcpEG.jpg</td>\n",
       "      <td>528085</td>\n",
       "      <td>False</td>\n",
       "      <td>/5UkzNSOK561c2QRy2Zr4AkADzLT.jpg</td>\n",
       "      <td>en</td>\n",
       "      <td>2067</td>\n",
       "      <td>[18, 878, 53]</td>\n",
       "      <td>2067</td>\n",
       "      <td>5.6</td>\n",
       "      <td>A lowly utility worker is called to the future...</td>\n",
       "      <td>2020-10-01</td>\n",
       "    </tr>\n",
       "    <tr>\n",
       "      <th>1</th>\n",
       "      <td>1566.933</td>\n",
       "      <td>10</td>\n",
       "      <td>False</td>\n",
       "      <td>/h8Rb9gBr48ODIwYUttZNYeMWeUU.jpg</td>\n",
       "      <td>635302</td>\n",
       "      <td>False</td>\n",
       "      <td>/xoqr4dMbRJnzuhsWDF3XNHQwJ9x.jpg</td>\n",
       "      <td>ja</td>\n",
       "      <td>劇場版「鬼滅の刃」無限列車編</td>\n",
       "      <td>[28, 12, 16, 18, 14, 36]</td>\n",
       "      <td>Demon Slayer: Kimetsu no Yaiba - The Movie: Mu...</td>\n",
       "      <td>8.2</td>\n",
       "      <td>Tanjirō Kamado, joined with Inosuke Hashibira,...</td>\n",
       "      <td>2020-10-16</td>\n",
       "    </tr>\n",
       "    <tr>\n",
       "      <th>2</th>\n",
       "      <td>1270.760</td>\n",
       "      <td>121</td>\n",
       "      <td>False</td>\n",
       "      <td>/elZ6JCzSEvFOq4gNjNeZsnRFsvj.jpg</td>\n",
       "      <td>741067</td>\n",
       "      <td>False</td>\n",
       "      <td>/aO5ILS7qnqtFIprbJ40zla0jhpu.jpg</td>\n",
       "      <td>en</td>\n",
       "      <td>Welcome to Sudden Death</td>\n",
       "      <td>[28, 12, 18, 53]</td>\n",
       "      <td>Welcome to Sudden Death</td>\n",
       "      <td>6.5</td>\n",
       "      <td>Jesse Freeman is a former special forces offic...</td>\n",
       "      <td>2020-09-29</td>\n",
       "    </tr>\n",
       "    <tr>\n",
       "      <th>3</th>\n",
       "      <td>1742.468</td>\n",
       "      <td>13</td>\n",
       "      <td>False</td>\n",
       "      <td>/ugZW8ocsrfgI95pnQ7wrmKDxIe.jpg</td>\n",
       "      <td>724989</td>\n",
       "      <td>False</td>\n",
       "      <td>/86L8wqGMDbwURPni2t7FQ0nDjsH.jpg</td>\n",
       "      <td>en</td>\n",
       "      <td>Hard Kill</td>\n",
       "      <td>[28, 53]</td>\n",
       "      <td>Hard Kill</td>\n",
       "      <td>3.9</td>\n",
       "      <td>The work of billionaire tech CEO Donovan Chalm...</td>\n",
       "      <td>2020-10-23</td>\n",
       "    </tr>\n",
       "    <tr>\n",
       "      <th>4</th>\n",
       "      <td>1262.537</td>\n",
       "      <td>2208</td>\n",
       "      <td>False</td>\n",
       "      <td>/riYInlsq2kf1AWoGm80JQW5dLKp.jpg</td>\n",
       "      <td>497582</td>\n",
       "      <td>False</td>\n",
       "      <td>/kMe4TKMDNXTKptQPAdOF0oZHq3V.jpg</td>\n",
       "      <td>en</td>\n",
       "      <td>Enola Holmes</td>\n",
       "      <td>[80, 18, 9648]</td>\n",
       "      <td>Enola Holmes</td>\n",
       "      <td>7.6</td>\n",
       "      <td>While searching for her missing mother, intrep...</td>\n",
       "      <td>2020-09-23</td>\n",
       "    </tr>\n",
       "  </tbody>\n",
       "</table>\n",
       "</div>"
      ],
      "text/plain": [
       "   popularity  vote_count  video                       poster_path      id  \\\n",
       "0    2257.847         171  False  /7D430eqZj8y3oVkLFfsWXGRcpEG.jpg  528085   \n",
       "1    1566.933          10  False  /h8Rb9gBr48ODIwYUttZNYeMWeUU.jpg  635302   \n",
       "2    1270.760         121  False  /elZ6JCzSEvFOq4gNjNeZsnRFsvj.jpg  741067   \n",
       "3    1742.468          13  False   /ugZW8ocsrfgI95pnQ7wrmKDxIe.jpg  724989   \n",
       "4    1262.537        2208  False  /riYInlsq2kf1AWoGm80JQW5dLKp.jpg  497582   \n",
       "\n",
       "   adult                     backdrop_path original_language  \\\n",
       "0  False  /5UkzNSOK561c2QRy2Zr4AkADzLT.jpg                en   \n",
       "1  False  /xoqr4dMbRJnzuhsWDF3XNHQwJ9x.jpg                ja   \n",
       "2  False  /aO5ILS7qnqtFIprbJ40zla0jhpu.jpg                en   \n",
       "3  False  /86L8wqGMDbwURPni2t7FQ0nDjsH.jpg                en   \n",
       "4  False  /kMe4TKMDNXTKptQPAdOF0oZHq3V.jpg                en   \n",
       "\n",
       "            original_title                 genre_ids  \\\n",
       "0                     2067             [18, 878, 53]   \n",
       "1           劇場版「鬼滅の刃」無限列車編  [28, 12, 16, 18, 14, 36]   \n",
       "2  Welcome to Sudden Death          [28, 12, 18, 53]   \n",
       "3                Hard Kill                  [28, 53]   \n",
       "4             Enola Holmes            [80, 18, 9648]   \n",
       "\n",
       "                                               title  vote_average  \\\n",
       "0                                               2067           5.6   \n",
       "1  Demon Slayer: Kimetsu no Yaiba - The Movie: Mu...           8.2   \n",
       "2                            Welcome to Sudden Death           6.5   \n",
       "3                                          Hard Kill           3.9   \n",
       "4                                       Enola Holmes           7.6   \n",
       "\n",
       "                                            overview release_date  \n",
       "0  A lowly utility worker is called to the future...   2020-10-01  \n",
       "1  Tanjirō Kamado, joined with Inosuke Hashibira,...   2020-10-16  \n",
       "2  Jesse Freeman is a former special forces offic...   2020-09-29  \n",
       "3  The work of billionaire tech CEO Donovan Chalm...   2020-10-23  \n",
       "4  While searching for her missing mother, intrep...   2020-09-23  "
      ]
     },
     "execution_count": 13,
     "metadata": {},
     "output_type": "execute_result"
    }
   ],
   "source": [
    "test.head()"
   ]
  },
  {
   "cell_type": "code",
   "execution_count": null,
   "metadata": {},
   "outputs": [],
   "source": [
    "test=pd.json_normalize(ts.Movies().popular(append_to_response='')['results'])\n"
   ]
  },
  {
   "cell_type": "code",
   "execution_count": 35,
   "metadata": {},
   "outputs": [
    {
     "data": {
      "text/plain": [
       "(20, 14)"
      ]
     },
     "execution_count": 35,
     "metadata": {},
     "output_type": "execute_result"
    }
   ],
   "source": [
    "test.shape"
   ]
  },
  {
   "cell_type": "code",
   "execution_count": 32,
   "metadata": {},
   "outputs": [
    {
     "data": {
      "text/plain": [
       "[1, 2]"
      ]
     },
     "execution_count": 32,
     "metadata": {},
     "output_type": "execute_result"
    }
   ],
   "source": [
    "lst[:4]"
   ]
  },
  {
   "cell_type": "code",
   "execution_count": null,
   "metadata": {},
   "outputs": [],
   "source": []
  }
 ],
 "metadata": {
  "kernelspec": {
   "display_name": "Python 3",
   "language": "python",
   "name": "python3"
  },
  "language_info": {
   "codemirror_mode": {
    "name": "ipython",
    "version": 3
   },
   "file_extension": ".py",
   "mimetype": "text/x-python",
   "name": "python",
   "nbconvert_exporter": "python",
   "pygments_lexer": "ipython3",
   "version": "3.7.9"
  }
 },
 "nbformat": 4,
 "nbformat_minor": 4
}
