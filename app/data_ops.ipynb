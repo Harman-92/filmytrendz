{
 "cells": [
  {
   "cell_type": "code",
   "execution_count": 1,
   "metadata": {},
   "outputs": [],
   "source": [
    "import pandas as pd"
   ]
  },
  {
   "cell_type": "code",
   "execution_count": 2,
   "metadata": {},
   "outputs": [
    {
     "name": "stderr",
     "output_type": "stream",
     "text": [
      "C:\\Users\\Harman\\.conda\\envs\\PDSH\\lib\\site-packages\\IPython\\core\\interactiveshell.py:3146: DtypeWarning: Columns (3) have mixed types.Specify dtype option on import or set low_memory=False.\n",
      "  interactivity=interactivity, compiler=compiler, result=result)\n"
     ]
    }
   ],
   "source": [
    "movies=pd.read_csv('IMDB movies.csv')"
   ]
  },
  {
   "cell_type": "code",
   "execution_count": 3,
   "metadata": {},
   "outputs": [
    {
     "data": {
      "text/plain": [
       "(78344, 12)"
      ]
     },
     "execution_count": 3,
     "metadata": {},
     "output_type": "execute_result"
    }
   ],
   "source": [
    "#Drop irrelevant columns\n",
    "\n",
    "movies.drop(columns=['usa_gross_income', 'worlwide_gross_income', 'metascore',\n",
    "       'reviews_from_users', 'reviews_from_critics','duration','language','date_published','budget','title'],inplace=True)\n",
    "\n",
    "#Remove nulls\n",
    "movies.dropna(inplace=True)\n",
    "movies.shape"
   ]
  },
  {
   "cell_type": "code",
   "execution_count": 4,
   "metadata": {},
   "outputs": [
    {
     "data": {
      "text/plain": [
       "['imdb_title_id',\n",
       " 'original_title',\n",
       " 'year',\n",
       " 'genre',\n",
       " 'country',\n",
       " 'director',\n",
       " 'writer',\n",
       " 'production_company',\n",
       " 'actors',\n",
       " 'description',\n",
       " 'avg_vote',\n",
       " 'votes']"
      ]
     },
     "execution_count": 4,
     "metadata": {},
     "output_type": "execute_result"
    }
   ],
   "source": [
    "movies.columns.tolist()"
   ]
  },
  {
   "cell_type": "code",
   "execution_count": 55,
   "metadata": {},
   "outputs": [
    {
     "data": {
      "text/html": [
       "<div>\n",
       "<style scoped>\n",
       "    .dataframe tbody tr th:only-of-type {\n",
       "        vertical-align: middle;\n",
       "    }\n",
       "\n",
       "    .dataframe tbody tr th {\n",
       "        vertical-align: top;\n",
       "    }\n",
       "\n",
       "    .dataframe thead th {\n",
       "        text-align: right;\n",
       "    }\n",
       "</style>\n",
       "<table border=\"1\" class=\"dataframe\">\n",
       "  <thead>\n",
       "    <tr style=\"text-align: right;\">\n",
       "      <th></th>\n",
       "      <th>imdb_title_id</th>\n",
       "      <th>original_title</th>\n",
       "      <th>year</th>\n",
       "      <th>genre</th>\n",
       "      <th>director</th>\n",
       "      <th>writer</th>\n",
       "      <th>production_company</th>\n",
       "      <th>actors</th>\n",
       "      <th>description</th>\n",
       "      <th>avg_vote</th>\n",
       "      <th>votes</th>\n",
       "    </tr>\n",
       "  </thead>\n",
       "  <tbody>\n",
       "    <tr>\n",
       "      <th>0</th>\n",
       "      <td>tt0000009</td>\n",
       "      <td>Miss Jerry</td>\n",
       "      <td>1894</td>\n",
       "      <td>Romance</td>\n",
       "      <td>Alexander Black</td>\n",
       "      <td>Alexander Black</td>\n",
       "      <td>Alexander Black Photoplays</td>\n",
       "      <td>Blanche Bayliss, William Courtenay, Chauncey D...</td>\n",
       "      <td>The adventures of a female reporter in the 1890s.</td>\n",
       "      <td>5.9</td>\n",
       "      <td>154</td>\n",
       "    </tr>\n",
       "    <tr>\n",
       "      <th>1</th>\n",
       "      <td>tt0000574</td>\n",
       "      <td>The Story of the Kelly Gang</td>\n",
       "      <td>1906</td>\n",
       "      <td>Biography, Crime, Drama</td>\n",
       "      <td>Charles Tait</td>\n",
       "      <td>Charles Tait</td>\n",
       "      <td>J. and N. Tait</td>\n",
       "      <td>Elizabeth Tait, John Tait, Norman Campbell, Be...</td>\n",
       "      <td>True story of notorious Australian outlaw Ned ...</td>\n",
       "      <td>6.1</td>\n",
       "      <td>589</td>\n",
       "    </tr>\n",
       "    <tr>\n",
       "      <th>2</th>\n",
       "      <td>tt0001892</td>\n",
       "      <td>Den sorte drøm</td>\n",
       "      <td>1911</td>\n",
       "      <td>Drama</td>\n",
       "      <td>Urban Gad</td>\n",
       "      <td>Urban Gad, Gebhard Schätzler-Perasini</td>\n",
       "      <td>Fotorama</td>\n",
       "      <td>Asta Nielsen, Valdemar Psilander, Gunnar Helse...</td>\n",
       "      <td>Two men of high rank are both wooing the beaut...</td>\n",
       "      <td>5.8</td>\n",
       "      <td>188</td>\n",
       "    </tr>\n",
       "    <tr>\n",
       "      <th>3</th>\n",
       "      <td>tt0002101</td>\n",
       "      <td>Cleopatra</td>\n",
       "      <td>1912</td>\n",
       "      <td>Drama, History</td>\n",
       "      <td>Charles L. Gaskill</td>\n",
       "      <td>Victorien Sardou</td>\n",
       "      <td>Helen Gardner Picture Players</td>\n",
       "      <td>Helen Gardner, Pearl Sindelar, Miss Fielding, ...</td>\n",
       "      <td>The fabled queen of Egypt's affair with Roman ...</td>\n",
       "      <td>5.2</td>\n",
       "      <td>446</td>\n",
       "    </tr>\n",
       "    <tr>\n",
       "      <th>4</th>\n",
       "      <td>tt0002130</td>\n",
       "      <td>L'Inferno</td>\n",
       "      <td>1911</td>\n",
       "      <td>Adventure, Drama, Fantasy</td>\n",
       "      <td>Francesco Bertolini, Adolfo Padovan</td>\n",
       "      <td>Dante Alighieri</td>\n",
       "      <td>Milano Film</td>\n",
       "      <td>Salvatore Papa, Arturo Pirovano, Giuseppe de L...</td>\n",
       "      <td>Loosely adapted from Dante's Divine Comedy and...</td>\n",
       "      <td>7.0</td>\n",
       "      <td>2237</td>\n",
       "    </tr>\n",
       "  </tbody>\n",
       "</table>\n",
       "</div>"
      ],
      "text/plain": [
       "  imdb_title_id               original_title  year                      genre  \\\n",
       "0     tt0000009                   Miss Jerry  1894                    Romance   \n",
       "1     tt0000574  The Story of the Kelly Gang  1906    Biography, Crime, Drama   \n",
       "2     tt0001892               Den sorte drøm  1911                      Drama   \n",
       "3     tt0002101                    Cleopatra  1912             Drama, History   \n",
       "4     tt0002130                    L'Inferno  1911  Adventure, Drama, Fantasy   \n",
       "\n",
       "                              director                                 writer  \\\n",
       "0                      Alexander Black                        Alexander Black   \n",
       "1                         Charles Tait                           Charles Tait   \n",
       "2                            Urban Gad  Urban Gad, Gebhard Schätzler-Perasini   \n",
       "3                   Charles L. Gaskill                       Victorien Sardou   \n",
       "4  Francesco Bertolini, Adolfo Padovan                        Dante Alighieri   \n",
       "\n",
       "              production_company  \\\n",
       "0     Alexander Black Photoplays   \n",
       "1                 J. and N. Tait   \n",
       "2                       Fotorama   \n",
       "3  Helen Gardner Picture Players   \n",
       "4                    Milano Film   \n",
       "\n",
       "                                              actors  \\\n",
       "0  Blanche Bayliss, William Courtenay, Chauncey D...   \n",
       "1  Elizabeth Tait, John Tait, Norman Campbell, Be...   \n",
       "2  Asta Nielsen, Valdemar Psilander, Gunnar Helse...   \n",
       "3  Helen Gardner, Pearl Sindelar, Miss Fielding, ...   \n",
       "4  Salvatore Papa, Arturo Pirovano, Giuseppe de L...   \n",
       "\n",
       "                                         description  avg_vote  votes  \n",
       "0  The adventures of a female reporter in the 1890s.       5.9    154  \n",
       "1  True story of notorious Australian outlaw Ned ...       6.1    589  \n",
       "2  Two men of high rank are both wooing the beaut...       5.8    188  \n",
       "3  The fabled queen of Egypt's affair with Roman ...       5.2    446  \n",
       "4  Loosely adapted from Dante's Divine Comedy and...       7.0   2237  "
      ]
     },
     "execution_count": 55,
     "metadata": {},
     "output_type": "execute_result"
    }
   ],
   "source": [
    "movies.head(5)"
   ]
  },
  {
   "cell_type": "code",
   "execution_count": 16,
   "metadata": {},
   "outputs": [],
   "source": [
    "import tmdbsimple as ts\n",
    "ts.API_KEY='e8ad3a064b09b320f171bc110b451cfd'"
   ]
  },
  {
   "cell_type": "code",
   "execution_count": 55,
   "metadata": {},
   "outputs": [],
   "source": [
    "\n",
    "res=ts.Find(id='tt13057169').info(external_source='imdb_id')"
   ]
  },
  {
   "cell_type": "raw",
   "metadata": {},
   "source": [
    "res"
   ]
  },
  {
   "cell_type": "code",
   "execution_count": 59,
   "metadata": {},
   "outputs": [],
   "source": [
    "m_list=movies.imdb_title_id.to_list()"
   ]
  },
  {
   "cell_type": "code",
   "execution_count": 60,
   "metadata": {},
   "outputs": [],
   "source": [
    "from copy import deepcopy\n",
    "m_curr=deepcopy(m_list)"
   ]
  },
  {
   "cell_type": "code",
   "execution_count": 110,
   "metadata": {},
   "outputs": [],
   "source": [
    "df_col=['imdb_id','tmdb_id', 'original_language', 'original_title', 'adult', 'overview', 'poster_path', 'popularity']\n",
    "df_new=pd.DataFrame(columns=df_col)"
   ]
  },
  {
   "cell_type": "code",
   "execution_count": 159,
   "metadata": {},
   "outputs": [],
   "source": [
    "for _,item in enumerate(m_list):\n",
    "    res=ts.Find(id=item).info(external_source='imdb_id')['movie_results']\n",
    "    \n",
    "    #Deleting an id is equivalent to mark as done\n",
    "    m_curr.pop(0)\n",
    "    \n",
    "    #If there is a match\n",
    "    if res:\n",
    "        res=res[0]\n",
    "        row=dict.fromkeys(df_col,'')\n",
    "    \n",
    "        row['imdb_id']=item\n",
    "        row['tmdb_id']=res['id']\n",
    "        row['original_language']=res['original_language']\n",
    "        row['original_title']=res['original_title']\n",
    "        row['adult']=res['adult']\n",
    "        row['overview']=res['overview']\n",
    "        if res['poster_path']:\n",
    "            row['poster_path']='http://image.tmdb.org/t/p/original'+ res['poster_path']\n",
    "        row['popularity']=res['popularity']\n",
    "        \n",
    "        df_new=df_new.append(row,ignore_index=True)\n",
    "        \n",
    "        \n",
    "\n",
    "        \n",
    "    "
   ]
  },
  {
   "cell_type": "code",
   "execution_count": 160,
   "metadata": {},
   "outputs": [],
   "source": [
    "#Append this df to new_movie.csv\n",
    "\n",
    "df_new.to_csv('new_movie.csv', mode='a',header=False,index=False)"
   ]
  },
  {
   "cell_type": "code",
   "execution_count": 155,
   "metadata": {},
   "outputs": [],
   "source": [
    "#Incase you stop the loop\n",
    "m_curr.insert(0,item)\n",
    "m_list=deepcopy(m_curr)\n",
    "df_new=pd.DataFrame(columns=df_col)"
   ]
  },
  {
   "cell_type": "code",
   "execution_count": 156,
   "metadata": {},
   "outputs": [
    {
     "data": {
      "text/plain": [
       "True"
      ]
     },
     "execution_count": 156,
     "metadata": {},
     "output_type": "execute_result"
    }
   ],
   "source": [
    "#Check this before starting the loop again\n",
    "len(m_list) == len(m_curr)"
   ]
  },
  {
   "cell_type": "code",
   "execution_count": 3,
   "metadata": {},
   "outputs": [],
   "source": [
    "import omdb \n",
    "from omdb import OMDBClient\n",
    "ob = OMDBClient(apikey='1eedb1c5')\n"
   ]
  },
  {
   "cell_type": "code",
   "execution_count": 43,
   "metadata": {},
   "outputs": [],
   "source": [
    "res = ob.get(imdbid='tt9914942')"
   ]
  },
  {
   "cell_type": "code",
   "execution_count": 44,
   "metadata": {},
   "outputs": [
    {
     "data": {
      "text/plain": [
       "{'title': 'La vida sense la Sara Amat',\n",
       " 'year': '2019',\n",
       " 'rated': 'N/A',\n",
       " 'released': '05 Feb 2020',\n",
       " 'runtime': '74 min',\n",
       " 'genre': 'Drama',\n",
       " 'director': 'Laura Jou',\n",
       " 'writer': 'Coral Cruz, Pep Puig (novel)',\n",
       " 'actors': 'Maria Morera Colomer, Biel Rossell Pelfort, Isaac Alcayde, Lluís Altés',\n",
       " 'plot': 'Pep, a 13-year-old boy, is in love with a girl from his grandparents village, Sara Amat. One summer night Sara disappears without a trace. After a few hours, Pep finds her hiding in his room.',\n",
       " 'language': 'Catalan',\n",
       " 'country': 'Spain',\n",
       " 'awards': '2 wins & 1 nomination.',\n",
       " 'poster': 'https://m.media-amazon.com/images/M/MV5BNDdhY2ZlZTItMTQ1Yy00N2ZlLTk3ZWEtZDc1ZGZiNzZlNmJjXkEyXkFqcGdeQXVyMTA0MjU0Ng@@._V1_SX300.jpg',\n",
       " 'ratings': [{'source': 'Internet Movie Database', 'value': '6.8/10'}],\n",
       " 'metascore': 'N/A',\n",
       " 'imdb_rating': '6.8',\n",
       " 'imdb_votes': '79',\n",
       " 'imdb_id': 'tt9914942',\n",
       " 'type': 'movie',\n",
       " 'dvd': 'N/A',\n",
       " 'box_office': 'N/A',\n",
       " 'production': 'N/A',\n",
       " 'website': 'N/A',\n",
       " 'response': 'True'}"
      ]
     },
     "execution_count": 44,
     "metadata": {},
     "output_type": "execute_result"
    }
   ],
   "source": [
    "res"
   ]
  },
  {
   "cell_type": "code",
   "execution_count": 47,
   "metadata": {},
   "outputs": [],
   "source": [
    "cols_imdb=['imdb_title_id', 'original_title', 'year', 'genre', 'country', 'director', 'writer', 'production_company', 'actors', 'description', 'avg_vote', 'votes']\n",
    "df2=pd.DataFrame(columns=cols_imdb)\n",
    "\n"
   ]
  },
  {
   "cell_type": "code",
   "execution_count": 46,
   "metadata": {},
   "outputs": [],
   "source": [
    "13057170\n",
    "for _,item in enumerate(m_list):\n",
    "    res=ts.Find(id=item).info(external_source='imdb_id')['movie_results']\n",
    "    \n",
    "    #Deleting an id is equivalent to mark as done\n",
    "    m_curr.pop(0)\n",
    "    \n",
    "    #If there is a match\n",
    "    if res:\n",
    "        res=res[0]\n",
    "        row=dict.fromkeys(df_col,'')\n",
    "    \n",
    "        row['imdb_id']=item\n",
    "        row['tmdb_id']=res['id']\n",
    "        row['original_language']=res['original_language']\n",
    "        row['original_title']=res['original_title']\n",
    "        row['adult']=res['adult']\n",
    "        row['overview']=res['overview']\n",
    "        if res['poster_path']:\n",
    "            row['poster_path']='http://image.tmdb.org/t/p/original'+ res['poster_path']\n",
    "        row['popularity']=res['popularity']\n",
    "        \n",
    "        df_new=df_new.append(row,ignore_index=True)\n",
    "        \n"
   ]
  },
  {
   "cell_type": "code",
   "execution_count": 48,
   "metadata": {},
   "outputs": [
    {
     "data": {
      "text/plain": [
       "3142228"
      ]
     },
     "execution_count": 48,
     "metadata": {},
     "output_type": "execute_result"
    }
   ],
   "source": [
    "13057170-9914942"
   ]
  },
  {
   "cell_type": "code",
   "execution_count": 5,
   "metadata": {},
   "outputs": [],
   "source": [
    "df=pd.read_json('movie_ids_10_19_2020.json',lines=True)"
   ]
  },
  {
   "cell_type": "code",
   "execution_count": 6,
   "metadata": {},
   "outputs": [
    {
     "data": {
      "text/html": [
       "<div>\n",
       "<style scoped>\n",
       "    .dataframe tbody tr th:only-of-type {\n",
       "        vertical-align: middle;\n",
       "    }\n",
       "\n",
       "    .dataframe tbody tr th {\n",
       "        vertical-align: top;\n",
       "    }\n",
       "\n",
       "    .dataframe thead th {\n",
       "        text-align: right;\n",
       "    }\n",
       "</style>\n",
       "<table border=\"1\" class=\"dataframe\">\n",
       "  <thead>\n",
       "    <tr style=\"text-align: right;\">\n",
       "      <th></th>\n",
       "      <th>adult</th>\n",
       "      <th>id</th>\n",
       "      <th>original_title</th>\n",
       "      <th>popularity</th>\n",
       "      <th>video</th>\n",
       "    </tr>\n",
       "  </thead>\n",
       "  <tbody>\n",
       "    <tr>\n",
       "      <th>0</th>\n",
       "      <td>False</td>\n",
       "      <td>3924</td>\n",
       "      <td>Blondie</td>\n",
       "      <td>2.726</td>\n",
       "      <td>False</td>\n",
       "    </tr>\n",
       "    <tr>\n",
       "      <th>1</th>\n",
       "      <td>False</td>\n",
       "      <td>6124</td>\n",
       "      <td>Der Mann ohne Namen</td>\n",
       "      <td>0.840</td>\n",
       "      <td>False</td>\n",
       "    </tr>\n",
       "    <tr>\n",
       "      <th>2</th>\n",
       "      <td>False</td>\n",
       "      <td>8773</td>\n",
       "      <td>L'amour à vingt ans</td>\n",
       "      <td>3.243</td>\n",
       "      <td>False</td>\n",
       "    </tr>\n",
       "    <tr>\n",
       "      <th>3</th>\n",
       "      <td>False</td>\n",
       "      <td>21624</td>\n",
       "      <td>Jatts in Golmaal</td>\n",
       "      <td>0.600</td>\n",
       "      <td>False</td>\n",
       "    </tr>\n",
       "    <tr>\n",
       "      <th>4</th>\n",
       "      <td>False</td>\n",
       "      <td>25449</td>\n",
       "      <td>New World Disorder 9: Never Enough</td>\n",
       "      <td>1.542</td>\n",
       "      <td>False</td>\n",
       "    </tr>\n",
       "  </tbody>\n",
       "</table>\n",
       "</div>"
      ],
      "text/plain": [
       "   adult     id                      original_title  popularity  video\n",
       "0  False   3924                             Blondie       2.726  False\n",
       "1  False   6124                 Der Mann ohne Namen       0.840  False\n",
       "2  False   8773                 L'amour à vingt ans       3.243  False\n",
       "3  False  21624                    Jatts in Golmaal       0.600  False\n",
       "4  False  25449  New World Disorder 9: Never Enough       1.542  False"
      ]
     },
     "execution_count": 6,
     "metadata": {},
     "output_type": "execute_result"
    }
   ],
   "source": [
    "df.head()"
   ]
  },
  {
   "cell_type": "code",
   "execution_count": 10,
   "metadata": {},
   "outputs": [],
   "source": [
    "df=df[df.popularity > 0.5]"
   ]
  },
  {
   "cell_type": "code",
   "execution_count": 11,
   "metadata": {},
   "outputs": [
    {
     "data": {
      "text/plain": [
       "(550930, 5)"
      ]
     },
     "execution_count": 11,
     "metadata": {},
     "output_type": "execute_result"
    }
   ],
   "source": [
    "df.shape"
   ]
  },
  {
   "cell_type": "code",
   "execution_count": 12,
   "metadata": {},
   "outputs": [],
   "source": [
    "df=df[df.id > 590000]"
   ]
  },
  {
   "cell_type": "code",
   "execution_count": 13,
   "metadata": {},
   "outputs": [
    {
     "data": {
      "text/plain": [
       "(129821, 5)"
      ]
     },
     "execution_count": 13,
     "metadata": {},
     "output_type": "execute_result"
    }
   ],
   "source": [
    "df.shape"
   ]
  },
  {
   "cell_type": "code",
   "execution_count": 14,
   "metadata": {},
   "outputs": [],
   "source": [
    "lst_new=pd.read_csv('new_movie.csv')['tmdb_id'].tolist()"
   ]
  },
  {
   "cell_type": "code",
   "execution_count": 15,
   "metadata": {},
   "outputs": [
    {
     "data": {
      "text/plain": [
       "(127816, 5)"
      ]
     },
     "execution_count": 15,
     "metadata": {},
     "output_type": "execute_result"
    }
   ],
   "source": [
    "test=df[~df.id.isin(lst_new)]\n",
    "test.shape"
   ]
  },
  {
   "cell_type": "code",
   "execution_count": 20,
   "metadata": {},
   "outputs": [
    {
     "ename": "HTTPError",
     "evalue": "404 Client Error: Not Found for url: https://api.themoviedb.org/3/movie/590000000?api_key=e8ad3a064b09b320f171bc110b451cfd",
     "output_type": "error",
     "traceback": [
      "\u001b[1;31m---------------------------------------------------------------------------\u001b[0m",
      "\u001b[1;31mHTTPError\u001b[0m                                 Traceback (most recent call last)",
      "\u001b[1;32m<ipython-input-20-06f710a5bb0e>\u001b[0m in \u001b[0;36m<module>\u001b[1;34m\u001b[0m\n\u001b[1;32m----> 1\u001b[1;33m \u001b[0mres\u001b[0m\u001b[1;33m=\u001b[0m\u001b[0mts\u001b[0m\u001b[1;33m.\u001b[0m\u001b[0mMovies\u001b[0m\u001b[1;33m(\u001b[0m\u001b[0mid\u001b[0m\u001b[1;33m=\u001b[0m\u001b[1;34m'590000000'\u001b[0m\u001b[1;33m)\u001b[0m\u001b[1;33m.\u001b[0m\u001b[0minfo\u001b[0m\u001b[1;33m(\u001b[0m\u001b[1;33m)\u001b[0m\u001b[1;33m\u001b[0m\u001b[1;33m\u001b[0m\u001b[0m\n\u001b[0m",
      "\u001b[1;32m~\\.conda\\envs\\PDSH\\lib\\site-packages\\tmdbsimple\\movies.py\u001b[0m in \u001b[0;36minfo\u001b[1;34m(self, **kwargs)\u001b[0m\n\u001b[0;32m     70\u001b[0m         \u001b[0mpath\u001b[0m \u001b[1;33m=\u001b[0m \u001b[0mself\u001b[0m\u001b[1;33m.\u001b[0m\u001b[0m_get_id_path\u001b[0m\u001b[1;33m(\u001b[0m\u001b[1;34m'info'\u001b[0m\u001b[1;33m)\u001b[0m\u001b[1;33m\u001b[0m\u001b[1;33m\u001b[0m\u001b[0m\n\u001b[0;32m     71\u001b[0m \u001b[1;33m\u001b[0m\u001b[0m\n\u001b[1;32m---> 72\u001b[1;33m         \u001b[0mresponse\u001b[0m \u001b[1;33m=\u001b[0m \u001b[0mself\u001b[0m\u001b[1;33m.\u001b[0m\u001b[0m_GET\u001b[0m\u001b[1;33m(\u001b[0m\u001b[0mpath\u001b[0m\u001b[1;33m,\u001b[0m \u001b[0mkwargs\u001b[0m\u001b[1;33m)\u001b[0m\u001b[1;33m\u001b[0m\u001b[1;33m\u001b[0m\u001b[0m\n\u001b[0m\u001b[0;32m     73\u001b[0m         \u001b[0mself\u001b[0m\u001b[1;33m.\u001b[0m\u001b[0m_set_attrs_to_values\u001b[0m\u001b[1;33m(\u001b[0m\u001b[0mresponse\u001b[0m\u001b[1;33m)\u001b[0m\u001b[1;33m\u001b[0m\u001b[1;33m\u001b[0m\u001b[0m\n\u001b[0;32m     74\u001b[0m         \u001b[1;32mreturn\u001b[0m \u001b[0mresponse\u001b[0m\u001b[1;33m\u001b[0m\u001b[1;33m\u001b[0m\u001b[0m\n",
      "\u001b[1;32m~\\.conda\\envs\\PDSH\\lib\\site-packages\\tmdbsimple\\base.py\u001b[0m in \u001b[0;36m_GET\u001b[1;34m(self, path, params)\u001b[0m\n\u001b[0;32m     91\u001b[0m \u001b[1;33m\u001b[0m\u001b[0m\n\u001b[0;32m     92\u001b[0m     \u001b[1;32mdef\u001b[0m \u001b[0m_GET\u001b[0m\u001b[1;33m(\u001b[0m\u001b[0mself\u001b[0m\u001b[1;33m,\u001b[0m \u001b[0mpath\u001b[0m\u001b[1;33m,\u001b[0m \u001b[0mparams\u001b[0m\u001b[1;33m=\u001b[0m\u001b[1;32mNone\u001b[0m\u001b[1;33m)\u001b[0m\u001b[1;33m:\u001b[0m\u001b[1;33m\u001b[0m\u001b[1;33m\u001b[0m\u001b[0m\n\u001b[1;32m---> 93\u001b[1;33m         \u001b[1;32mreturn\u001b[0m \u001b[0mself\u001b[0m\u001b[1;33m.\u001b[0m\u001b[0m_request\u001b[0m\u001b[1;33m(\u001b[0m\u001b[1;34m'GET'\u001b[0m\u001b[1;33m,\u001b[0m \u001b[0mpath\u001b[0m\u001b[1;33m,\u001b[0m \u001b[0mparams\u001b[0m\u001b[1;33m=\u001b[0m\u001b[0mparams\u001b[0m\u001b[1;33m)\u001b[0m\u001b[1;33m\u001b[0m\u001b[1;33m\u001b[0m\u001b[0m\n\u001b[0m\u001b[0;32m     94\u001b[0m \u001b[1;33m\u001b[0m\u001b[0m\n\u001b[0;32m     95\u001b[0m     \u001b[1;32mdef\u001b[0m \u001b[0m_POST\u001b[0m\u001b[1;33m(\u001b[0m\u001b[0mself\u001b[0m\u001b[1;33m,\u001b[0m \u001b[0mpath\u001b[0m\u001b[1;33m,\u001b[0m \u001b[0mparams\u001b[0m\u001b[1;33m=\u001b[0m\u001b[1;32mNone\u001b[0m\u001b[1;33m,\u001b[0m \u001b[0mpayload\u001b[0m\u001b[1;33m=\u001b[0m\u001b[1;32mNone\u001b[0m\u001b[1;33m)\u001b[0m\u001b[1;33m:\u001b[0m\u001b[1;33m\u001b[0m\u001b[1;33m\u001b[0m\u001b[0m\n",
      "\u001b[1;32m~\\.conda\\envs\\PDSH\\lib\\site-packages\\tmdbsimple\\base.py\u001b[0m in \u001b[0;36m_request\u001b[1;34m(self, method, path, params, payload)\u001b[0m\n\u001b[0;32m     86\u001b[0m             headers=self.headers)\n\u001b[0;32m     87\u001b[0m \u001b[1;33m\u001b[0m\u001b[0m\n\u001b[1;32m---> 88\u001b[1;33m         \u001b[0mresponse\u001b[0m\u001b[1;33m.\u001b[0m\u001b[0mraise_for_status\u001b[0m\u001b[1;33m(\u001b[0m\u001b[1;33m)\u001b[0m\u001b[1;33m\u001b[0m\u001b[1;33m\u001b[0m\u001b[0m\n\u001b[0m\u001b[0;32m     89\u001b[0m         \u001b[0mresponse\u001b[0m\u001b[1;33m.\u001b[0m\u001b[0mencoding\u001b[0m \u001b[1;33m=\u001b[0m \u001b[1;34m'utf-8'\u001b[0m\u001b[1;33m\u001b[0m\u001b[1;33m\u001b[0m\u001b[0m\n\u001b[0;32m     90\u001b[0m         \u001b[1;32mreturn\u001b[0m \u001b[0mresponse\u001b[0m\u001b[1;33m.\u001b[0m\u001b[0mjson\u001b[0m\u001b[1;33m(\u001b[0m\u001b[1;33m)\u001b[0m\u001b[1;33m\u001b[0m\u001b[1;33m\u001b[0m\u001b[0m\n",
      "\u001b[1;32m~\\.conda\\envs\\PDSH\\lib\\site-packages\\requests\\models.py\u001b[0m in \u001b[0;36mraise_for_status\u001b[1;34m(self)\u001b[0m\n\u001b[0;32m    939\u001b[0m \u001b[1;33m\u001b[0m\u001b[0m\n\u001b[0;32m    940\u001b[0m         \u001b[1;32mif\u001b[0m \u001b[0mhttp_error_msg\u001b[0m\u001b[1;33m:\u001b[0m\u001b[1;33m\u001b[0m\u001b[1;33m\u001b[0m\u001b[0m\n\u001b[1;32m--> 941\u001b[1;33m             \u001b[1;32mraise\u001b[0m \u001b[0mHTTPError\u001b[0m\u001b[1;33m(\u001b[0m\u001b[0mhttp_error_msg\u001b[0m\u001b[1;33m,\u001b[0m \u001b[0mresponse\u001b[0m\u001b[1;33m=\u001b[0m\u001b[0mself\u001b[0m\u001b[1;33m)\u001b[0m\u001b[1;33m\u001b[0m\u001b[1;33m\u001b[0m\u001b[0m\n\u001b[0m\u001b[0;32m    942\u001b[0m \u001b[1;33m\u001b[0m\u001b[0m\n\u001b[0;32m    943\u001b[0m     \u001b[1;32mdef\u001b[0m \u001b[0mclose\u001b[0m\u001b[1;33m(\u001b[0m\u001b[0mself\u001b[0m\u001b[1;33m)\u001b[0m\u001b[1;33m:\u001b[0m\u001b[1;33m\u001b[0m\u001b[1;33m\u001b[0m\u001b[0m\n",
      "\u001b[1;31mHTTPError\u001b[0m: 404 Client Error: Not Found for url: https://api.themoviedb.org/3/movie/590000000?api_key=e8ad3a064b09b320f171bc110b451cfd"
     ]
    }
   ],
   "source": [
    "res=ts.Movies(id='590000000').info()"
   ]
  },
  {
   "cell_type": "code",
   "execution_count": 19,
   "metadata": {},
   "outputs": [
    {
     "data": {
      "text/plain": [
       "{'adult': True,\n",
       " 'backdrop_path': None,\n",
       " 'belongs_to_collection': None,\n",
       " 'budget': 0,\n",
       " 'genres': [],\n",
       " 'homepage': '',\n",
       " 'id': 59000,\n",
       " 'imdb_id': '',\n",
       " 'original_language': 'en',\n",
       " 'original_title': \"Samantha's Sexy Summer\",\n",
       " 'overview': 'While searching for ancient ruins, Samantha and her friends lose track of one another. As day turns into night, and the group fails to reconnect, the girls grow hot and restless. As the temperature rises, so do their desires, and a game with wickedly sexual rules begins.',\n",
       " 'popularity': 0.6,\n",
       " 'poster_path': None,\n",
       " 'production_companies': [],\n",
       " 'production_countries': [],\n",
       " 'release_date': '',\n",
       " 'revenue': 0,\n",
       " 'runtime': 90,\n",
       " 'spoken_languages': [],\n",
       " 'status': 'Released',\n",
       " 'tagline': '',\n",
       " 'title': \"Samantha's Sexy Summer\",\n",
       " 'video': False,\n",
       " 'vote_average': 0.0,\n",
       " 'vote_count': 0}"
      ]
     },
     "execution_count": 19,
     "metadata": {},
     "output_type": "execute_result"
    }
   ],
   "source": [
    "res"
   ]
  },
  {
   "cell_type": "code",
   "execution_count": 22,
   "metadata": {},
   "outputs": [
    {
     "data": {
      "text/plain": [
       "{'movie_results': [{'adult': False,\n",
       "   'backdrop_path': None,\n",
       "   'genre_ids': [53, 27],\n",
       "   'id': 110438,\n",
       "   'original_language': 'en',\n",
       "   'original_title': '怖来',\n",
       "   'overview': \"One day, when four young men wakes up in the morning, they're all in a small room filled with the white powder, naked.Why they are gathered? What is this room mean to be? Who brought them into this room? How to escape from this room?\",\n",
       "   'poster_path': '/rgoilbkEw0UIo1wVv2Gz3SPXyFO.jpg',\n",
       "   'release_date': '2005-08-06',\n",
       "   'title': 'White Panic',\n",
       "   'video': False,\n",
       "   'vote_average': 3.3,\n",
       "   'vote_count': 3,\n",
       "   'popularity': 0.784}],\n",
       " 'person_results': [],\n",
       " 'tv_results': [],\n",
       " 'tv_episode_results': [],\n",
       " 'tv_season_results': []}"
      ]
     },
     "execution_count": 22,
     "metadata": {},
     "output_type": "execute_result"
    }
   ],
   "source": [
    "ts.Find(id='tt0477430').info(external_source='imdb_id')\n"
   ]
  },
  {
   "cell_type": "code",
   "execution_count": 24,
   "metadata": {},
   "outputs": [
    {
     "data": {
      "text/plain": [
       "{'page': 1,\n",
       " 'total_results': 10000,\n",
       " 'total_pages': 500,\n",
       " 'results': [{'popularity': 2931.926,\n",
       "   'vote_count': 151,\n",
       "   'video': False,\n",
       "   'poster_path': '/7D430eqZj8y3oVkLFfsWXGRcpEG.jpg',\n",
       "   'id': 528085,\n",
       "   'adult': False,\n",
       "   'backdrop_path': '/5UkzNSOK561c2QRy2Zr4AkADzLT.jpg',\n",
       "   'original_language': 'en',\n",
       "   'original_title': '2067',\n",
       "   'genre_ids': [18, 878, 53],\n",
       "   'title': '2067',\n",
       "   'vote_average': 5.8,\n",
       "   'overview': 'A lowly utility worker is called to the future by a mysterious radio signal, he must leave his dying wife to embark on a journey that will force him to face his deepest fears in an attempt to change the fabric of reality and save humankind from its greatest environmental crisis yet.',\n",
       "   'release_date': '2020-10-01'},\n",
       "  {'popularity': 1615.119,\n",
       "   'vote_count': 117,\n",
       "   'video': False,\n",
       "   'poster_path': '/elZ6JCzSEvFOq4gNjNeZsnRFsvj.jpg',\n",
       "   'id': 741067,\n",
       "   'adult': False,\n",
       "   'backdrop_path': '/aO5ILS7qnqtFIprbJ40zla0jhpu.jpg',\n",
       "   'original_language': 'en',\n",
       "   'original_title': 'Welcome to Sudden Death',\n",
       "   'genre_ids': [28, 12, 18, 53],\n",
       "   'title': 'Welcome to Sudden Death',\n",
       "   'vote_average': 6.6,\n",
       "   'overview': \"Jesse Freeman is a former special forces officer and explosives expert now working a regular job as a security guard in a state-of-the-art basketball arena. Trouble erupts when a tech-savvy cadre of terrorists kidnap the team's owner and Jesse's daughter during opening night. Facing a ticking clock and impossible odds, it's up to Jesse to not only save them but also a full house of fans in this highly charged action thriller.\",\n",
       "   'release_date': '2020-09-29'},\n",
       "  {'popularity': 1262.157,\n",
       "   'vote_count': 2146,\n",
       "   'video': False,\n",
       "   'poster_path': '/riYInlsq2kf1AWoGm80JQW5dLKp.jpg',\n",
       "   'id': 497582,\n",
       "   'adult': False,\n",
       "   'backdrop_path': '/kMe4TKMDNXTKptQPAdOF0oZHq3V.jpg',\n",
       "   'original_language': 'en',\n",
       "   'original_title': 'Enola Holmes',\n",
       "   'genre_ids': [80, 18, 9648],\n",
       "   'title': 'Enola Holmes',\n",
       "   'vote_average': 7.6,\n",
       "   'overview': 'While searching for her missing mother, intrepid teen Enola Holmes uses her sleuthing skills to outsmart big brother Sherlock and help a runaway lord.',\n",
       "   'release_date': '2020-09-23'},\n",
       "  {'popularity': 868.324,\n",
       "   'vote_count': 2556,\n",
       "   'video': False,\n",
       "   'poster_path': '/aKx1ARwG55zZ0GpRvU2WrGrCG9o.jpg',\n",
       "   'id': 337401,\n",
       "   'adult': False,\n",
       "   'backdrop_path': '/zzWGRw277MNoCs3zhyG3YmYQsXv.jpg',\n",
       "   'original_language': 'en',\n",
       "   'original_title': 'Mulan',\n",
       "   'genre_ids': [28, 12, 18, 14],\n",
       "   'title': 'Mulan',\n",
       "   'vote_average': 7.3,\n",
       "   'overview': 'When the Emperor of China issues a decree that one man per family must serve in the Imperial Chinese Army to defend the country from Huns, Hua Mulan, the eldest daughter of an honored warrior, steps in to take the place of her ailing father. She is spirited, determined and quick on her feet. Disguised as a man by the name of Hua Jun, she is tested every step of the way and must harness her innermost strength and embrace her true potential.',\n",
       "   'release_date': '2020-09-04'},\n",
       "  {'popularity': 870.005,\n",
       "   'vote_count': 145,\n",
       "   'video': False,\n",
       "   'poster_path': '/ugZW8ocsrfgI95pnQ7wrmKDxIe.jpg',\n",
       "   'id': 724989,\n",
       "   'adult': False,\n",
       "   'backdrop_path': '/86L8wqGMDbwURPni2t7FQ0nDjsH.jpg',\n",
       "   'original_language': 'en',\n",
       "   'original_title': 'Hard Kill',\n",
       "   'genre_ids': [28, 53],\n",
       "   'title': 'Hard Kill',\n",
       "   'vote_average': 4.7,\n",
       "   'overview': 'The work of billionaire tech CEO Donovan Chalmers is so valuable that he hires mercenaries to protect it, and a terrorist group kidnaps his daughter just to get it.',\n",
       "   'release_date': '2020-08-25'},\n",
       "  {'popularity': 792.863,\n",
       "   'vote_count': 44,\n",
       "   'video': False,\n",
       "   'poster_path': '/5aL71e0XBgHZ6zdWcWeuEhwD2Gw.jpg',\n",
       "   'id': 721656,\n",
       "   'adult': False,\n",
       "   'backdrop_path': '/5gTQmnGYKxDfmUWJ9GUWqrszRxN.jpg',\n",
       "   'original_language': 'en',\n",
       "   'original_title': 'Happy Halloween Scooby-Doo!',\n",
       "   'genre_ids': [16, 35, 80, 9648, 10751],\n",
       "   'title': 'Happy Halloween Scooby-Doo!',\n",
       "   'vote_average': 7.8,\n",
       "   'overview': 'Scooby-Doo and the gang team up with their pals, Bill Nye The Science Guy and Elvira Mistress of the Dark, to solve this mystery of gigantic proportions and save Crystal Cove!',\n",
       "   'release_date': '2020-10-06'},\n",
       "  {'popularity': 826.627,\n",
       "   'vote_count': 150,\n",
       "   'video': False,\n",
       "   'poster_path': '/6CoRTJTmijhBLJTUNoVSUNxZMEI.jpg',\n",
       "   'id': 694919,\n",
       "   'adult': False,\n",
       "   'backdrop_path': '/pq0JSpwyT2URytdFG0euztQPAyR.jpg',\n",
       "   'original_language': 'en',\n",
       "   'original_title': 'Money Plane',\n",
       "   'genre_ids': [28],\n",
       "   'title': 'Money Plane',\n",
       "   'vote_average': 5.9,\n",
       "   'overview': \"A professional thief with $40 million in debt and his family's life on the line must commit one final heist - rob a futuristic airborne casino filled with the world's most dangerous criminals.\",\n",
       "   'release_date': '2020-09-29'},\n",
       "  {'popularity': 730.904,\n",
       "   'vote_count': 92,\n",
       "   'video': False,\n",
       "   'poster_path': '/xqvX5A24dbIWaeYsMTxxKX5qOfz.jpg',\n",
       "   'id': 660982,\n",
       "   'adult': False,\n",
       "   'backdrop_path': '/75ooojtgiKYm5LcCczbCexioZze.jpg',\n",
       "   'original_language': 'en',\n",
       "   'original_title': \"American Pie Presents: Girls' Rules\",\n",
       "   'genre_ids': [35],\n",
       "   'title': 'American Pie Presents: Girls Rules',\n",
       "   'vote_average': 6.6,\n",
       "   'overview': \"It's Senior year at East Great Falls. Annie, Kayla, Michelle, and Stephanie decide to harness their girl power and band together to get what they want their last year of high school.\",\n",
       "   'release_date': '2020-10-06'},\n",
       "  {'popularity': 715.29,\n",
       "   'vote_count': 310,\n",
       "   'video': False,\n",
       "   'poster_path': '/uOw5JD8IlD546feZ6oxbIjvN66P.jpg',\n",
       "   'id': 718444,\n",
       "   'adult': False,\n",
       "   'backdrop_path': '/x4UkhIQuHIJyeeOTdcbZ3t3gBSa.jpg',\n",
       "   'original_language': 'en',\n",
       "   'original_title': 'Rogue',\n",
       "   'genre_ids': [28],\n",
       "   'title': 'Rogue',\n",
       "   'vote_average': 5.9,\n",
       "   'overview': 'Battle-hardened O’Hara leads a lively mercenary team of soldiers on a daring mission: rescue hostages from their captors in remote Africa. But as the mission goes awry and the team is stranded, O’Hara’s squad must face a bloody, brutal encounter with a gang of rebels.',\n",
       "   'release_date': '2020-08-20'},\n",
       "  {'popularity': 676.927,\n",
       "   'vote_count': 6,\n",
       "   'video': False,\n",
       "   'poster_path': '/z0r3YjyJSLqf6Hz0rbBAnEhNXQ7.jpg',\n",
       "   'id': 697064,\n",
       "   'adult': False,\n",
       "   'backdrop_path': '/7WKIOXJa2JjHygE8Yta3uaCv6GC.jpg',\n",
       "   'original_language': 'en',\n",
       "   'original_title': 'Beckman',\n",
       "   'genre_ids': [28],\n",
       "   'title': 'Beckman',\n",
       "   'vote_average': 5.4,\n",
       "   'overview': 'A contract killer, becomes the reverend of a LA church, until a cult leader and his minions kidnap his daughter. Blinded by vengeance, he cuts a bloody path across the city. The only thing that can stop him is his newfound faith.',\n",
       "   'release_date': '2020-09-10'},\n",
       "  {'popularity': 670.397,\n",
       "   'vote_count': 138,\n",
       "   'video': False,\n",
       "   'poster_path': '/9Rj8l6gElLpRL7Kj17iZhrT5Zuw.jpg',\n",
       "   'id': 734309,\n",
       "   'adult': False,\n",
       "   'backdrop_path': '/7fvdg211A2L0mHddvzyArRuRalp.jpg',\n",
       "   'original_language': 'en',\n",
       "   'original_title': 'Santana',\n",
       "   'genre_ids': [28, 18, 53],\n",
       "   'title': 'Santana',\n",
       "   'vote_average': 5.6,\n",
       "   'overview': 'Two brothers — one a narcotics agent and the other a general — finally discover the identity of the drug lord who murdered their parents decades ago. They may kill each other before capturing the bad guys.',\n",
       "   'release_date': '2020-08-28'},\n",
       "  {'popularity': 653.73,\n",
       "   'vote_count': 504,\n",
       "   'video': False,\n",
       "   'poster_path': '/qzA87Wf4jo1h8JMk9GilyIYvwsA.jpg',\n",
       "   'id': 539885,\n",
       "   'adult': False,\n",
       "   'backdrop_path': '/54yOImQgj8i85u9hxxnaIQBRUuo.jpg',\n",
       "   'original_language': 'en',\n",
       "   'original_title': 'Ava',\n",
       "   'genre_ids': [28, 80, 18, 53],\n",
       "   'title': 'Ava',\n",
       "   'vote_average': 5.9,\n",
       "   'overview': 'A black ops assassin is forced to fight for her own survival after a job goes dangerously wrong.',\n",
       "   'release_date': '2020-07-02'},\n",
       "  {'popularity': 652.72,\n",
       "   'vote_count': 634,\n",
       "   'video': False,\n",
       "   'poster_path': '/sy6DvAu72kjoseZEjocnm2ZZ09i.jpg',\n",
       "   'id': 581392,\n",
       "   'adult': False,\n",
       "   'backdrop_path': '/2nFzxaAK7JIsk6l7qZ8rFBsa3yW.jpg',\n",
       "   'original_language': 'ko',\n",
       "   'original_title': '반도',\n",
       "   'genre_ids': [28, 27, 53],\n",
       "   'title': 'Peninsula',\n",
       "   'vote_average': 7.1,\n",
       "   'overview': 'A soldier and his team battle hordes of post-apocalyptic zombies in the wastelands of the Korean Peninsula.',\n",
       "   'release_date': '2020-07-15'},\n",
       "  {'popularity': 578.561,\n",
       "   'vote_count': 439,\n",
       "   'video': False,\n",
       "   'poster_path': '/zGVbrulkupqpbwgiNedkJPyQum4.jpg',\n",
       "   'id': 592350,\n",
       "   'adult': False,\n",
       "   'backdrop_path': '/9guoVF7zayiiUq5ulKQpt375VIy.jpg',\n",
       "   'original_language': 'ja',\n",
       "   'original_title': '僕のヒーローアカデミア THE MOVIE ヒーローズ：ライジング',\n",
       "   'genre_ids': [28, 16],\n",
       "   'title': 'My Hero Academia: Heroes Rising',\n",
       "   'vote_average': 8.6,\n",
       "   'overview': \"Class 1-A visits Nabu Island where they finally get to do some real hero work. The place is so peaceful that it's more like a vacation … until they're attacked by a villain with an unfathomable Quirk! His power is eerily familiar, and it looks like Shigaraki had a hand in the plan. But with All Might retired and citizens' lives on the line, there's no time for questions. Deku and his friends are the next generation of heroes, and they're the island's only hope.\",\n",
       "   'release_date': '2019-12-20'},\n",
       "  {'popularity': 535.058,\n",
       "   'vote_count': 220,\n",
       "   'video': False,\n",
       "   'poster_path': '/vJHSParlylICnI7DuuI54nfTPRR.jpg',\n",
       "   'id': 438396,\n",
       "   'adult': False,\n",
       "   'backdrop_path': '/qGZe9qTuydxyJYQ60XDtEckzLR8.jpg',\n",
       "   'original_language': 'es',\n",
       "   'original_title': 'Orígenes secretos',\n",
       "   'genre_ids': [18, 53],\n",
       "   'title': 'Unknown Origins',\n",
       "   'vote_average': 6.2,\n",
       "   'overview': 'In Madrid, Spain, a mysterious serial killer ruthlessly murders his victims by recreating the first appearance of several comic book superheroes. Cosme, a veteran police inspector who is about to retire, works on the case along with the tormented inspector David Valentín and his own son Jorge Elías, a nerdy young man who owns a comic book store.',\n",
       "   'release_date': '2020-08-28'},\n",
       "  {'popularity': 539.829,\n",
       "   'vote_count': 884,\n",
       "   'video': False,\n",
       "   'poster_path': '/tI8ocADh22GtQFV28vGHaBZVb0U.jpg',\n",
       "   'id': 475430,\n",
       "   'adult': False,\n",
       "   'backdrop_path': '/o0F8xAt8YuEm5mEZviX5pEFC12y.jpg',\n",
       "   'original_language': 'en',\n",
       "   'original_title': 'Artemis Fowl',\n",
       "   'genre_ids': [28, 12, 14, 878, 10751],\n",
       "   'title': 'Artemis Fowl',\n",
       "   'vote_average': 5.8,\n",
       "   'overview': \"Artemis Fowl is a 12-year-old genius and descendant of a long line of criminal masterminds. He soon finds himself in an epic battle against a race of powerful underground fairies who may be behind his father's disappearance.\",\n",
       "   'release_date': '2020-06-12'},\n",
       "  {'popularity': 742.802,\n",
       "   'vote_count': 7,\n",
       "   'video': False,\n",
       "   'poster_path': '/h8Rb9gBr48ODIwYUttZNYeMWeUU.jpg',\n",
       "   'id': 635302,\n",
       "   'adult': False,\n",
       "   'backdrop_path': '/xoqr4dMbRJnzuhsWDF3XNHQwJ9x.jpg',\n",
       "   'original_language': 'ja',\n",
       "   'original_title': '劇場版「鬼滅の刃」無限列車編',\n",
       "   'genre_ids': [28, 12, 16, 18, 14, 36],\n",
       "   'title': 'Demon Slayer: Kimetsu no Yaiba - The Movie: Mugen Train',\n",
       "   'vote_average': 8.3,\n",
       "   'overview': \"Tanjirō Kamado, joined with Inosuke Hashibira, a boy raised by boars who wears a boar's head, and Zenitsu Agatsuma, a scared boy who reveals his true power when he sleeps, boards the Infinity Train on a new mission with the Fire Hashira, Kyōjurō Rengoku, to defeat a demon who has been tormenting the people and killing the demon slayers who oppose it!\",\n",
       "   'release_date': '2020-10-16'},\n",
       "  {'popularity': 484.417,\n",
       "   'vote_count': 143,\n",
       "   'video': False,\n",
       "   'poster_path': '/eDnHgozW8vfOaLHzfpHluf1GZCW.jpg',\n",
       "   'id': 606234,\n",
       "   'adult': False,\n",
       "   'backdrop_path': '/u9YEh2xVAPVTKoaMNlB5tH6pXkm.jpg',\n",
       "   'original_language': 'en',\n",
       "   'original_title': 'Archive',\n",
       "   'genre_ids': [18, 14, 878, 53],\n",
       "   'title': 'Archive',\n",
       "   'vote_average': 5.6,\n",
       "   'overview': '2038: George Almore is working on a true human-equivalent AI, and his latest prototype is almost ready. This sensitive phase is also the riskiest as he has a goal that must be hidden at all costs—being reunited with his dead wife.',\n",
       "   'release_date': '2020-08-13'},\n",
       "  {'popularity': 474.368,\n",
       "   'vote_count': 451,\n",
       "   'video': False,\n",
       "   'poster_path': '/kPzcvxBwt7kEISB9O4jJEuBn72t.jpg',\n",
       "   'id': 677638,\n",
       "   'adult': False,\n",
       "   'backdrop_path': '/pO1SnM5a1fEsYrFaVZW78Wb0zRJ.jpg',\n",
       "   'original_language': 'en',\n",
       "   'original_title': 'We Bare Bears: The Movie',\n",
       "   'genre_ids': [12, 16, 35, 9648, 10751],\n",
       "   'title': 'We Bare Bears: The Movie',\n",
       "   'vote_average': 7.7,\n",
       "   'overview': \"When Grizz, Panda, and Ice Bear's love of food trucks and viral videos went out of hand, it catches the attention of Agent Trout from the National Wildlife Control, who pledges to restore the “natural order” by separating them forever. Chased away from their home, the Bears embark on an epic road trip as they seek refuge in Canada, with their journey being filled with new friends, perilous obstacles, and huge parties. The risky journey also forces the Bears to face how they first met and became brothers, in order to keep their family bond from splitting apart.\",\n",
       "   'release_date': '2020-06-30'},\n",
       "  {'popularity': 473.396,\n",
       "   'vote_count': 113,\n",
       "   'video': False,\n",
       "   'poster_path': '/i4kPwXPlM1iy8Jf3S1uuLuwqQAV.jpg',\n",
       "   'id': 721452,\n",
       "   'adult': False,\n",
       "   'backdrop_path': '/riDrpqQtZpXGeiJdlmfcwwPH7nN.jpg',\n",
       "   'original_language': 'en',\n",
       "   'original_title': 'One Night in Bangkok',\n",
       "   'genre_ids': [28, 53],\n",
       "   'title': 'One Night in Bangkok',\n",
       "   'vote_average': 7.2,\n",
       "   'overview': \"A hit man named Kai flies into Bangkok, gets a gun, and orders a cab. He offers a professional female driver big money to be his all-night driver. But when she realizes Kai is committing brutal murders at each stop, it's too late to walk away. Meanwhile, an offbeat police detective races to decode the string of slayings before more blood is spilled.\",\n",
       "   'release_date': '2020-08-25'}]}"
      ]
     },
     "execution_count": 24,
     "metadata": {},
     "output_type": "execute_result"
    }
   ],
   "source": [
    "ts.Movies().popular()"
   ]
  },
  {
   "cell_type": "code",
   "execution_count": 25,
   "metadata": {},
   "outputs": [],
   "source": [
    "df_test=pd.read_csv('new_movie.csv')\n"
   ]
  },
  {
   "cell_type": "code",
   "execution_count": 28,
   "metadata": {},
   "outputs": [
    {
     "data": {
      "text/plain": [
       "False"
      ]
     },
     "execution_count": 28,
     "metadata": {},
     "output_type": "execute_result"
    }
   ],
   "source": [
    "df_test"
   ]
  },
  {
   "cell_type": "code",
   "execution_count": 31,
   "metadata": {},
   "outputs": [
    {
     "data": {
      "text/plain": [
       "False"
      ]
     },
     "execution_count": 31,
     "metadata": {},
     "output_type": "execute_result"
    }
   ],
   "source": [
    "df_test.tmdb_id.isin([721656]).any()"
   ]
  },
  {
   "cell_type": "code",
   "execution_count": null,
   "metadata": {},
   "outputs": [],
   "source": []
  }
 ],
 "metadata": {
  "kernelspec": {
   "display_name": "Python 3",
   "language": "python",
   "name": "python3"
  },
  "language_info": {
   "codemirror_mode": {
    "name": "ipython",
    "version": 3
   },
   "file_extension": ".py",
   "mimetype": "text/x-python",
   "name": "python",
   "nbconvert_exporter": "python",
   "pygments_lexer": "ipython3",
   "version": "3.7.9"
  }
 },
 "nbformat": 4,
 "nbformat_minor": 4
}
