{
 "cells": [
  {
   "cell_type": "code",
   "execution_count": 2,
   "metadata": {},
   "outputs": [],
   "source": [
    "import pandas as pd\n",
    "import tmdbsimple as ts\n",
    "from copy import deepcopy\n",
    "import omdb \n",
    "from omdb import OMDBClient\n",
    "\n",
    "ts.API_KEY='YOUR_API_KEY'"
   ]
  },
  {
   "cell_type": "code",
   "execution_count": 2,
   "metadata": {},
   "outputs": [
    {
     "name": "stderr",
     "output_type": "stream",
     "text": [
      "C:\\Users\\Harman\\.conda\\envs\\PDSH\\lib\\site-packages\\IPython\\core\\interactiveshell.py:3146: DtypeWarning: Columns (3) have mixed types.Specify dtype option on import or set low_memory=False.\n",
      "  interactivity=interactivity, compiler=compiler, result=result)\n"
     ]
    }
   ],
   "source": [
    "movies=pd.read_csv('IMDB movies.csv')"
   ]
  },
  {
   "cell_type": "code",
   "execution_count": 3,
   "metadata": {},
   "outputs": [
    {
     "data": {
      "text/plain": [
       "(78344, 12)"
      ]
     },
     "execution_count": 3,
     "metadata": {},
     "output_type": "execute_result"
    }
   ],
   "source": [
    "#Drop irrelevant columns\n",
    "\n",
    "movies.drop(columns=['usa_gross_income', 'worlwide_gross_income', 'metascore',\n",
    "       'reviews_from_users', 'reviews_from_critics','duration','language','date_published','budget','title'],inplace=True)\n",
    "\n",
    "#Remove nulls\n",
    "movies.dropna(inplace=True)\n",
    "movies.shape"
   ]
  },
  {
   "cell_type": "code",
   "execution_count": 4,
   "metadata": {},
   "outputs": [
    {
     "data": {
      "text/plain": [
       "['imdb_title_id',\n",
       " 'original_title',\n",
       " 'year',\n",
       " 'genre',\n",
       " 'country',\n",
       " 'director',\n",
       " 'writer',\n",
       " 'production_company',\n",
       " 'actors',\n",
       " 'description',\n",
       " 'avg_vote',\n",
       " 'votes']"
      ]
     },
     "execution_count": 4,
     "metadata": {},
     "output_type": "execute_result"
    }
   ],
   "source": [
    "movies.columns.tolist()"
   ]
  },
  {
   "cell_type": "code",
   "execution_count": 55,
   "metadata": {},
   "outputs": [
    {
     "data": {
      "text/html": [
       "<div>\n",
       "<style scoped>\n",
       "    .dataframe tbody tr th:only-of-type {\n",
       "        vertical-align: middle;\n",
       "    }\n",
       "\n",
       "    .dataframe tbody tr th {\n",
       "        vertical-align: top;\n",
       "    }\n",
       "\n",
       "    .dataframe thead th {\n",
       "        text-align: right;\n",
       "    }\n",
       "</style>\n",
       "<table border=\"1\" class=\"dataframe\">\n",
       "  <thead>\n",
       "    <tr style=\"text-align: right;\">\n",
       "      <th></th>\n",
       "      <th>imdb_title_id</th>\n",
       "      <th>original_title</th>\n",
       "      <th>year</th>\n",
       "      <th>genre</th>\n",
       "      <th>director</th>\n",
       "      <th>writer</th>\n",
       "      <th>production_company</th>\n",
       "      <th>actors</th>\n",
       "      <th>description</th>\n",
       "      <th>avg_vote</th>\n",
       "      <th>votes</th>\n",
       "    </tr>\n",
       "  </thead>\n",
       "  <tbody>\n",
       "    <tr>\n",
       "      <th>0</th>\n",
       "      <td>tt0000009</td>\n",
       "      <td>Miss Jerry</td>\n",
       "      <td>1894</td>\n",
       "      <td>Romance</td>\n",
       "      <td>Alexander Black</td>\n",
       "      <td>Alexander Black</td>\n",
       "      <td>Alexander Black Photoplays</td>\n",
       "      <td>Blanche Bayliss, William Courtenay, Chauncey D...</td>\n",
       "      <td>The adventures of a female reporter in the 1890s.</td>\n",
       "      <td>5.9</td>\n",
       "      <td>154</td>\n",
       "    </tr>\n",
       "    <tr>\n",
       "      <th>1</th>\n",
       "      <td>tt0000574</td>\n",
       "      <td>The Story of the Kelly Gang</td>\n",
       "      <td>1906</td>\n",
       "      <td>Biography, Crime, Drama</td>\n",
       "      <td>Charles Tait</td>\n",
       "      <td>Charles Tait</td>\n",
       "      <td>J. and N. Tait</td>\n",
       "      <td>Elizabeth Tait, John Tait, Norman Campbell, Be...</td>\n",
       "      <td>True story of notorious Australian outlaw Ned ...</td>\n",
       "      <td>6.1</td>\n",
       "      <td>589</td>\n",
       "    </tr>\n",
       "    <tr>\n",
       "      <th>2</th>\n",
       "      <td>tt0001892</td>\n",
       "      <td>Den sorte drøm</td>\n",
       "      <td>1911</td>\n",
       "      <td>Drama</td>\n",
       "      <td>Urban Gad</td>\n",
       "      <td>Urban Gad, Gebhard Schätzler-Perasini</td>\n",
       "      <td>Fotorama</td>\n",
       "      <td>Asta Nielsen, Valdemar Psilander, Gunnar Helse...</td>\n",
       "      <td>Two men of high rank are both wooing the beaut...</td>\n",
       "      <td>5.8</td>\n",
       "      <td>188</td>\n",
       "    </tr>\n",
       "    <tr>\n",
       "      <th>3</th>\n",
       "      <td>tt0002101</td>\n",
       "      <td>Cleopatra</td>\n",
       "      <td>1912</td>\n",
       "      <td>Drama, History</td>\n",
       "      <td>Charles L. Gaskill</td>\n",
       "      <td>Victorien Sardou</td>\n",
       "      <td>Helen Gardner Picture Players</td>\n",
       "      <td>Helen Gardner, Pearl Sindelar, Miss Fielding, ...</td>\n",
       "      <td>The fabled queen of Egypt's affair with Roman ...</td>\n",
       "      <td>5.2</td>\n",
       "      <td>446</td>\n",
       "    </tr>\n",
       "    <tr>\n",
       "      <th>4</th>\n",
       "      <td>tt0002130</td>\n",
       "      <td>L'Inferno</td>\n",
       "      <td>1911</td>\n",
       "      <td>Adventure, Drama, Fantasy</td>\n",
       "      <td>Francesco Bertolini, Adolfo Padovan</td>\n",
       "      <td>Dante Alighieri</td>\n",
       "      <td>Milano Film</td>\n",
       "      <td>Salvatore Papa, Arturo Pirovano, Giuseppe de L...</td>\n",
       "      <td>Loosely adapted from Dante's Divine Comedy and...</td>\n",
       "      <td>7.0</td>\n",
       "      <td>2237</td>\n",
       "    </tr>\n",
       "  </tbody>\n",
       "</table>\n",
       "</div>"
      ],
      "text/plain": [
       "  imdb_title_id               original_title  year                      genre  \\\n",
       "0     tt0000009                   Miss Jerry  1894                    Romance   \n",
       "1     tt0000574  The Story of the Kelly Gang  1906    Biography, Crime, Drama   \n",
       "2     tt0001892               Den sorte drøm  1911                      Drama   \n",
       "3     tt0002101                    Cleopatra  1912             Drama, History   \n",
       "4     tt0002130                    L'Inferno  1911  Adventure, Drama, Fantasy   \n",
       "\n",
       "                              director                                 writer  \\\n",
       "0                      Alexander Black                        Alexander Black   \n",
       "1                         Charles Tait                           Charles Tait   \n",
       "2                            Urban Gad  Urban Gad, Gebhard Schätzler-Perasini   \n",
       "3                   Charles L. Gaskill                       Victorien Sardou   \n",
       "4  Francesco Bertolini, Adolfo Padovan                        Dante Alighieri   \n",
       "\n",
       "              production_company  \\\n",
       "0     Alexander Black Photoplays   \n",
       "1                 J. and N. Tait   \n",
       "2                       Fotorama   \n",
       "3  Helen Gardner Picture Players   \n",
       "4                    Milano Film   \n",
       "\n",
       "                                              actors  \\\n",
       "0  Blanche Bayliss, William Courtenay, Chauncey D...   \n",
       "1  Elizabeth Tait, John Tait, Norman Campbell, Be...   \n",
       "2  Asta Nielsen, Valdemar Psilander, Gunnar Helse...   \n",
       "3  Helen Gardner, Pearl Sindelar, Miss Fielding, ...   \n",
       "4  Salvatore Papa, Arturo Pirovano, Giuseppe de L...   \n",
       "\n",
       "                                         description  avg_vote  votes  \n",
       "0  The adventures of a female reporter in the 1890s.       5.9    154  \n",
       "1  True story of notorious Australian outlaw Ned ...       6.1    589  \n",
       "2  Two men of high rank are both wooing the beaut...       5.8    188  \n",
       "3  The fabled queen of Egypt's affair with Roman ...       5.2    446  \n",
       "4  Loosely adapted from Dante's Divine Comedy and...       7.0   2237  "
      ]
     },
     "execution_count": 55,
     "metadata": {},
     "output_type": "execute_result"
    }
   ],
   "source": [
    "movies.head(5)"
   ]
  },
  {
   "cell_type": "code",
   "execution_count": 59,
   "metadata": {},
   "outputs": [],
   "source": [
    "#Get a list of imdb title ids\n",
    "m_list=movies.imdb_title_id.to_list()\n",
    "\n",
    "#Copy to another list\n",
    "m_curr=deepcopy(m_list)"
   ]
  },
  {
   "cell_type": "code",
   "execution_count": 110,
   "metadata": {},
   "outputs": [],
   "source": [
    "#Create a new dataframe to populate new_movie.csv\n",
    "df_col=['imdb_id','tmdb_id', 'original_language', 'original_title', 'adult', 'overview', 'poster_path', 'popularity']\n",
    "df_new=pd.DataFrame(columns=df_col)"
   ]
  },
  {
   "cell_type": "code",
   "execution_count": 159,
   "metadata": {},
   "outputs": [],
   "source": [
    "#Populate df using TMDB api\n",
    "\n",
    "for _,item in enumerate(m_list):\n",
    "    res=ts.Find(id=item).info(external_source='imdb_id')['movie_results']\n",
    "    \n",
    "    #Deleting an id is equivalent to mark as done\n",
    "    m_curr.pop(0)\n",
    "    \n",
    "    #If there is a match\n",
    "    if res:\n",
    "        res=res[0]\n",
    "        row=dict.fromkeys(df_col,'')\n",
    "    \n",
    "        row['imdb_id']=item\n",
    "        row['tmdb_id']=res['id']\n",
    "        row['original_language']=res['original_language']\n",
    "        row['original_title']=res['original_title']\n",
    "        row['adult']=res['adult']\n",
    "        row['overview']=res['overview']\n",
    "        if res['poster_path']:\n",
    "            row['poster_path']='http://image.tmdb.org/t/p/original'+ res['poster_path']\n",
    "        row['popularity']=res['popularity']\n",
    "        \n",
    "        df_new=df_new.append(row,ignore_index=True)\n",
    "                "
   ]
  },
  {
   "cell_type": "code",
   "execution_count": 160,
   "metadata": {},
   "outputs": [],
   "source": [
    "#Append this df to new_movie.csv\n",
    "df_new.to_csv('new_movie.csv', mode='a',header=False,index=False)"
   ]
  },
  {
   "cell_type": "code",
   "execution_count": 155,
   "metadata": {},
   "outputs": [],
   "source": [
    "#Incase you stop the loop\n",
    "m_curr.insert(0,item)\n",
    "m_list=deepcopy(m_curr)\n",
    "df_new=pd.DataFrame(columns=df_col)"
   ]
  },
  {
   "cell_type": "code",
   "execution_count": 156,
   "metadata": {},
   "outputs": [
    {
     "data": {
      "text/plain": [
       "True"
      ]
     },
     "execution_count": 156,
     "metadata": {},
     "output_type": "execute_result"
    }
   ],
   "source": [
    "#Check this before starting the loop again\n",
    "assert(len(m_list) == len(m_curr))"
   ]
  },
  {
   "cell_type": "code",
   "execution_count": 3,
   "metadata": {},
   "outputs": [],
   "source": [
    "#OMDB api operations\n",
    "ob = OMDBClient(apikey='1eedb1c5')\n",
    "res = ob.get(imdbid='tt9914942')"
   ]
  },
  {
   "cell_type": "code",
   "execution_count": 44,
   "metadata": {},
   "outputs": [
    {
     "data": {
      "text/plain": [
       "{'title': 'La vida sense la Sara Amat',\n",
       " 'year': '2019',\n",
       " 'rated': 'N/A',\n",
       " 'released': '05 Feb 2020',\n",
       " 'runtime': '74 min',\n",
       " 'genre': 'Drama',\n",
       " 'director': 'Laura Jou',\n",
       " 'writer': 'Coral Cruz, Pep Puig (novel)',\n",
       " 'actors': 'Maria Morera Colomer, Biel Rossell Pelfort, Isaac Alcayde, Lluís Altés',\n",
       " 'plot': 'Pep, a 13-year-old boy, is in love with a girl from his grandparents village, Sara Amat. One summer night Sara disappears without a trace. After a few hours, Pep finds her hiding in his room.',\n",
       " 'language': 'Catalan',\n",
       " 'country': 'Spain',\n",
       " 'awards': '2 wins & 1 nomination.',\n",
       " 'poster': 'https://m.media-amazon.com/images/M/MV5BNDdhY2ZlZTItMTQ1Yy00N2ZlLTk3ZWEtZDc1ZGZiNzZlNmJjXkEyXkFqcGdeQXVyMTA0MjU0Ng@@._V1_SX300.jpg',\n",
       " 'ratings': [{'source': 'Internet Movie Database', 'value': '6.8/10'}],\n",
       " 'metascore': 'N/A',\n",
       " 'imdb_rating': '6.8',\n",
       " 'imdb_votes': '79',\n",
       " 'imdb_id': 'tt9914942',\n",
       " 'type': 'movie',\n",
       " 'dvd': 'N/A',\n",
       " 'box_office': 'N/A',\n",
       " 'production': 'N/A',\n",
       " 'website': 'N/A',\n",
       " 'response': 'True'}"
      ]
     },
     "execution_count": 44,
     "metadata": {},
     "output_type": "execute_result"
    }
   ],
   "source": [
    "res"
   ]
  },
  {
   "cell_type": "code",
   "execution_count": 6,
   "metadata": {},
   "outputs": [
    {
     "data": {
      "text/html": [
       "<div>\n",
       "<style scoped>\n",
       "    .dataframe tbody tr th:only-of-type {\n",
       "        vertical-align: middle;\n",
       "    }\n",
       "\n",
       "    .dataframe tbody tr th {\n",
       "        vertical-align: top;\n",
       "    }\n",
       "\n",
       "    .dataframe thead th {\n",
       "        text-align: right;\n",
       "    }\n",
       "</style>\n",
       "<table border=\"1\" class=\"dataframe\">\n",
       "  <thead>\n",
       "    <tr style=\"text-align: right;\">\n",
       "      <th></th>\n",
       "      <th>adult</th>\n",
       "      <th>id</th>\n",
       "      <th>original_title</th>\n",
       "      <th>popularity</th>\n",
       "      <th>video</th>\n",
       "    </tr>\n",
       "  </thead>\n",
       "  <tbody>\n",
       "    <tr>\n",
       "      <th>0</th>\n",
       "      <td>False</td>\n",
       "      <td>3924</td>\n",
       "      <td>Blondie</td>\n",
       "      <td>2.726</td>\n",
       "      <td>False</td>\n",
       "    </tr>\n",
       "    <tr>\n",
       "      <th>1</th>\n",
       "      <td>False</td>\n",
       "      <td>6124</td>\n",
       "      <td>Der Mann ohne Namen</td>\n",
       "      <td>0.840</td>\n",
       "      <td>False</td>\n",
       "    </tr>\n",
       "    <tr>\n",
       "      <th>2</th>\n",
       "      <td>False</td>\n",
       "      <td>8773</td>\n",
       "      <td>L'amour à vingt ans</td>\n",
       "      <td>3.243</td>\n",
       "      <td>False</td>\n",
       "    </tr>\n",
       "    <tr>\n",
       "      <th>3</th>\n",
       "      <td>False</td>\n",
       "      <td>21624</td>\n",
       "      <td>Jatts in Golmaal</td>\n",
       "      <td>0.600</td>\n",
       "      <td>False</td>\n",
       "    </tr>\n",
       "    <tr>\n",
       "      <th>4</th>\n",
       "      <td>False</td>\n",
       "      <td>25449</td>\n",
       "      <td>New World Disorder 9: Never Enough</td>\n",
       "      <td>1.542</td>\n",
       "      <td>False</td>\n",
       "    </tr>\n",
       "  </tbody>\n",
       "</table>\n",
       "</div>"
      ],
      "text/plain": [
       "   adult     id                      original_title  popularity  video\n",
       "0  False   3924                             Blondie       2.726  False\n",
       "1  False   6124                 Der Mann ohne Namen       0.840  False\n",
       "2  False   8773                 L'amour à vingt ans       3.243  False\n",
       "3  False  21624                    Jatts in Golmaal       0.600  False\n",
       "4  False  25449  New World Disorder 9: Never Enough       1.542  False"
      ]
     },
     "execution_count": 6,
     "metadata": {},
     "output_type": "execute_result"
    }
   ],
   "source": [
    "#Reading dump files from TMDB\n",
    "df=pd.read_json('movie_ids_10_19_2020.json',lines=True)\n",
    "df.head()"
   ]
  },
  {
   "cell_type": "code",
   "execution_count": 8,
   "metadata": {},
   "outputs": [],
   "source": [
    "#Get movies for year 2020 till current date\n",
    "\n",
    "res=ts.Discover().movie(sort_by='primary_release_date.asc',primary_release_year='2020',primary_release_date_gte='2020-01-01',primary_release_date_lte='2020-10-27')\n"
   ]
  },
  {
   "cell_type": "code",
   "execution_count": 23,
   "metadata": {},
   "outputs": [],
   "source": [
    "#Initialise a temporary list to store movie ids\n",
    "id_list=[]"
   ]
  },
  {
   "cell_type": "code",
   "execution_count": 33,
   "metadata": {},
   "outputs": [
    {
     "name": "stdout",
     "output_type": "stream",
     "text": [
      "100\n",
      "100\n"
     ]
    }
   ],
   "source": [
    "for i in range(1,500):\n",
    "    res=ts.Discover().movie(page=i,sort_by='primary_release_date.asc',primary_release_year='2020',primary_release_date_gte='2020-01-01',primary_release_date_lte='2020-10-27')\n",
    "\n",
    "    temp=pd.json_normalize(res['results']).id.tolist()\n",
    "    \n",
    "    id_list +=temp\n",
    "    \n",
    "    if i%100 == 0:\n",
    "        print(100)"
   ]
  },
  {
   "cell_type": "code",
   "execution_count": 61,
   "metadata": {},
   "outputs": [
    {
     "data": {
      "text/html": [
       "<div>\n",
       "<style scoped>\n",
       "    .dataframe tbody tr th:only-of-type {\n",
       "        vertical-align: middle;\n",
       "    }\n",
       "\n",
       "    .dataframe tbody tr th {\n",
       "        vertical-align: top;\n",
       "    }\n",
       "\n",
       "    .dataframe thead th {\n",
       "        text-align: right;\n",
       "    }\n",
       "</style>\n",
       "<table border=\"1\" class=\"dataframe\">\n",
       "  <thead>\n",
       "    <tr style=\"text-align: right;\">\n",
       "      <th></th>\n",
       "      <th>id</th>\n",
       "    </tr>\n",
       "  </thead>\n",
       "  <tbody>\n",
       "    <tr>\n",
       "      <th>0</th>\n",
       "      <td>747527</td>\n",
       "    </tr>\n",
       "    <tr>\n",
       "      <th>1</th>\n",
       "      <td>742073</td>\n",
       "    </tr>\n",
       "    <tr>\n",
       "      <th>2</th>\n",
       "      <td>740646</td>\n",
       "    </tr>\n",
       "    <tr>\n",
       "      <th>3</th>\n",
       "      <td>733888</td>\n",
       "    </tr>\n",
       "    <tr>\n",
       "      <th>4</th>\n",
       "      <td>727158</td>\n",
       "    </tr>\n",
       "  </tbody>\n",
       "</table>\n",
       "</div>"
      ],
      "text/plain": [
       "       id\n",
       "0  747527\n",
       "1  742073\n",
       "2  740646\n",
       "3  733888\n",
       "4  727158"
      ]
     },
     "execution_count": 61,
     "metadata": {},
     "output_type": "execute_result"
    }
   ],
   "source": [
    "#Convert the list to a pandas dataframe\n",
    "df=pd.DataFrame(data=id_list,columns=['id'])\n",
    "df.id=df.id.astype('str')\n",
    "\n",
    "#Filter out duplicates\n",
    "df.drop_duplicates(keep=\"first\",inplace=True)\n"
   ]
  },
  {
   "cell_type": "code",
   "execution_count": 65,
   "metadata": {},
   "outputs": [
    {
     "name": "stderr",
     "output_type": "stream",
     "text": [
      "C:\\Users\\Harman\\.conda\\envs\\PDSH\\lib\\site-packages\\IPython\\core\\interactiveshell.py:3146: DtypeWarning: Columns (6) have mixed types.Specify dtype option on import or set low_memory=False.\n",
      "  interactivity=interactivity, compiler=compiler, result=result)\n"
     ]
    }
   ],
   "source": [
    "#Read old ids and filter out the common ids\n",
    "df_latest=pd.read_csv('movie_data.csv')\n",
    "old_list=df_latest.tmdb_id.astype('str').tolist()\n",
    "movie_list=df[~df.id.isin(old_list)].id.tolist()"
   ]
  },
  {
   "cell_type": "code",
   "execution_count": 71,
   "metadata": {},
   "outputs": [],
   "source": [
    "##Generate data for all of the newly created movie ids"
   ]
  },
  {
   "cell_type": "code",
   "execution_count": 91,
   "metadata": {},
   "outputs": [
    {
     "name": "stdout",
     "output_type": "stream",
     "text": [
      "True\n",
      "True\n",
      "True\n",
      "True\n",
      "True\n",
      "True\n",
      "True\n",
      "True\n",
      "True\n",
      "True\n",
      "True\n",
      "True\n",
      "True\n",
      "True\n",
      "True\n",
      "True\n",
      "True\n",
      "True\n",
      "True\n",
      "True\n",
      "True\n",
      "True\n",
      "True\n"
     ]
    }
   ],
   "source": [
    "for i,tmdb_id in enumerate(movie_list):\n",
    "    try:\n",
    "        \n",
    "        temp=pd.json_normalize(ts.Movies(id=tmdb_id).info(append_to_response='credits'))\n",
    "        df_new=df_new.append(temp,ignore_index=True)\n",
    "        if i%1000 == 0:\n",
    "            print('True')\n",
    "    except:\n",
    "        pass"
   ]
  },
  {
   "cell_type": "code",
   "execution_count": 94,
   "metadata": {},
   "outputs": [],
   "source": [
    "#Drop irrelavant columns\n",
    "df_new.drop(columns=['belongs_to_collection.id','belongs_to_collection','backdrop_path', 'belongs_to_collection.name', 'belongs_to_collection.poster_path', 'belongs_to_collection.backdrop_path','status'],inplace=True)"
   ]
  },
  {
   "cell_type": "code",
   "execution_count": 95,
   "metadata": {},
   "outputs": [],
   "source": [
    "#Save to disk\n",
    "df_new.to_csv('tmdb_2020.csv',index=False)"
   ]
  }
 ],
 "metadata": {
  "kernelspec": {
   "display_name": "Python 3",
   "language": "python",
   "name": "python3"
  },
  "language_info": {
   "codemirror_mode": {
    "name": "ipython",
    "version": 3
   },
   "file_extension": ".py",
   "mimetype": "text/x-python",
   "name": "python",
   "nbconvert_exporter": "python",
   "pygments_lexer": "ipython3",
   "version": "3.7.9"
  }
 },
 "nbformat": 4,
 "nbformat_minor": 4
}
